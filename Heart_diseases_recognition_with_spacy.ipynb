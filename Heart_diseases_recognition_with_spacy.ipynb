{
  "nbformat": 4,
  "nbformat_minor": 0,
  "metadata": {
    "colab": {
      "name": "Heart diseases recognition with spacy.ipynb",
      "provenance": [],
      "collapsed_sections": []
    },
    "kernelspec": {
      "name": "python3",
      "display_name": "Python 3"
    }
  },
  "cells": [
    {
      "cell_type": "markdown",
      "metadata": {
        "id": "MY0KhSQaD-VG"
      },
      "source": [
        "#### Import prerequisites"
      ]
    },
    {
      "cell_type": "code",
      "metadata": {
        "id": "gsLJZzXhWMV_"
      },
      "source": [
        "import spacy\n",
        "import random\n",
        "import time\n",
        "import numpy as np\n",
        "from spacy.util import minibatch, compounding\n",
        "import sys\n",
        "from spacy import displacy\n",
        "from itertools import chain\n",
        "import matplotlib.pyplot as plt\n",
        "from matplotlib.ticker import MaxNLocator"
      ],
      "execution_count": null,
      "outputs": []
    },
    {
      "cell_type": "markdown",
      "metadata": {
        "id": "lDoxQZQXEK_w"
      },
      "source": [
        "#### Training data preparation"
      ]
    },
    {
      "cell_type": "code",
      "metadata": {
        "id": "58H1Q7cw5u_Z"
      },
      "source": [
        "TRAINING_DATA = [('congenital heart disease is a disease that is commonly found in humans',\n",
        "  {'entities': [(0, 24, 'DISEASE')]}),\n",
        " ('congenital heart disease can affect the health of humans devastatingly',\n",
        "  {'entities': [(0, 24, 'DISEASE')]}),\n",
        " ('congenital heart disease should be informed to the doctor straightaway',\n",
        "  {'entities': [(0, 24, 'DISEASE')]}),\n",
        " ('congenital heart disease can cause severe health problems',\n",
        "  {'entities': [(0, 24, 'DISEASE')]}),\n",
        " ('congenital heart disease is found in one out of every thousand humans',\n",
        "  {'entities': [(0, 24, 'DISEASE')]}),\n",
        " ('congenital heart disease is a mild condition and is not very serious',\n",
        "  {'entities': [(0, 24, 'DISEASE')]}),\n",
        " ('congenital heart disease can deplete the immune system rapidly',\n",
        "  {'entities': [(0, 24, 'DISEASE')]}),\n",
        " ('congenital heart disease should not be treated using home remedies',\n",
        "  {'entities': [(0, 24, 'DISEASE')]}),\n",
        " ('congenital heart disease is usually exhibited by adults',\n",
        "  {'entities': [(0, 24, 'DISEASE')]}),\n",
        " ('congenital heart disease can ruin your retirement years',\n",
        "  {'entities': [(0, 24, 'DISEASE')]}),\n",
        " ('Researches show that congenital heart disease is found in adult males over the age 70',\n",
        "  {'entities': [(21, 45, 'DISEASE')]}),\n",
        " ('The cost of treating congenital heart disease in in U.S.A is much higher than anywhere in the world',\n",
        "  {'entities': [(21, 45, 'DISEASE')]}),\n",
        " ('Reports say permanent cure for congenital heart disease has been found',\n",
        "  {'entities': [(31, 55, 'DISEASE')]}),\n",
        " ('How to cure congenital heart disease is the question the world has been asking',\n",
        "  {'entities': [(12, 36, 'DISEASE')]}),\n",
        " ('The company that introduces the vaccine for congenital heart disease will be the most successful organisation of the 21st century.',\n",
        "  {'entities': [(44, 68, 'DISEASE')]}),\n",
        " ('In the 21 st century, we have seen a rise in percentage of the population affected by congenital heart disease than in previous centuries.',\n",
        "  {'entities': [(86, 110, 'DISEASE')]}),\n",
        " ('The vaccine for congenital heart disease has adverse side effects.',\n",
        "  {'entities': [(16, 40, 'DISEASE')]}),\n",
        " ('The world is in a race to find a cure for congenital heart disease as fast as possible',\n",
        "  {'entities': [(42, 66, 'DISEASE')]}),\n",
        " ('A new committee has been formed to research how congenital heart disease affects the immune system',\n",
        "  {'entities': [(48, 72, 'DISEASE')]}),\n",
        " ('People are in fear that congenital heart disease is the end of the world.',\n",
        "  {'entities': [(24, 48, 'DISEASE')]}),\n",
        " ('Mankind desperately wants a solution to congenital heart disease to keep their hopes high.',\n",
        "  {'entities': [(40, 64, 'DISEASE')]}),\n",
        " ('Can we even think of a normal life after what congenital heart disease has done to human race ?',\n",
        "  {'entities': [(46, 70, 'DISEASE')]}),\n",
        " ('30 percent of the total population exhibits congenital heart disease',\n",
        "  {'entities': [(44, 68, 'DISEASE')]}),\n",
        " ('An orange a day can help in preventing congenital heart disease',\n",
        "  {'entities': [(39, 63, 'DISEASE')]}),\n",
        " ('Every pharmaceutical company wants to find a cure for congenital heart disease',\n",
        "  {'entities': [(54, 78, 'DISEASE')]}),\n",
        " ('What causes congenital heart disease ?',\n",
        "  {'entities': [(12, 36, 'DISEASE')]}),\n",
        " ('Why is there a rise in number of people affected by congenital heart disease ?',\n",
        "  {'entities': [(52, 76, 'DISEASE')]}),\n",
        " ('Is there any bigger challenge the human race has faced that is bigger than congenital heart disease ?',\n",
        "  {'entities': [(75, 99, 'DISEASE')]}),\n",
        " ('The way we interact with people has been changed after we were affected by congenital heart disease',\n",
        "  {'entities': [(75, 99, 'DISEASE')]}),\n",
        " ('Can the immune system of the human body fight congenital heart disease ?',\n",
        "  {'entities': [(46, 70, 'DISEASE')]}),\n",
        " ('The state of the immunity system plays a much bigger role in fighting congenital heart disease',\n",
        "  {'entities': [(70, 94, 'DISEASE')]}),\n",
        " ('thromboembolic disease is a disease that is commonly found in humans',\n",
        "  {'entities': [(0, 22, 'DISEASE')]}),\n",
        " ('thromboembolic disease can affect the health of humans devastatingly',\n",
        "  {'entities': [(0, 22, 'DISEASE')]}),\n",
        " ('thromboembolic disease should be informed to the doctor straightaway',\n",
        "  {'entities': [(0, 22, 'DISEASE')]}),\n",
        " ('thromboembolic disease can cause severe health problems',\n",
        "  {'entities': [(0, 22, 'DISEASE')]}),\n",
        " ('thromboembolic disease is found in one out of every thousand humans',\n",
        "  {'entities': [(0, 22, 'DISEASE')]}),\n",
        " ('thromboembolic disease is a mild condition and is not very serious',\n",
        "  {'entities': [(0, 22, 'DISEASE')]}),\n",
        " ('thromboembolic disease can deplete the immune system rapidly',\n",
        "  {'entities': [(0, 22, 'DISEASE')]}),\n",
        " ('thromboembolic disease should not be treated using home remedies',\n",
        "  {'entities': [(0, 22, 'DISEASE')]}),\n",
        " ('thromboembolic disease is usually exhibited by adults',\n",
        "  {'entities': [(0, 22, 'DISEASE')]}),\n",
        " ('thromboembolic disease can ruin your retirement years',\n",
        "  {'entities': [(0, 22, 'DISEASE')]}),\n",
        " ('Researches show that thromboembolic disease is found in adult males over the age 70',\n",
        "  {'entities': [(21, 43, 'DISEASE')]}),\n",
        " ('The cost of treating thromboembolic disease in in U.S.A is much higher than anywhere in the world',\n",
        "  {'entities': [(21, 43, 'DISEASE')]}),\n",
        " ('Reports say permanent cure for thromboembolic disease has been found',\n",
        "  {'entities': [(31, 53, 'DISEASE')]}),\n",
        " ('How to cure thromboembolic disease is the question the world has been asking',\n",
        "  {'entities': [(12, 34, 'DISEASE')]}),\n",
        " ('The company that introduces the vaccine for thromboembolic disease will be the most successful organisation of the 21st century.',\n",
        "  {'entities': [(44, 66, 'DISEASE')]}),\n",
        " ('In the 21 st century, we have seen a rise in percentage of the population affected by thromboembolic disease than in previous centuries.',\n",
        "  {'entities': [(86, 108, 'DISEASE')]}),\n",
        " ('The vaccine for thromboembolic disease has adverse side effects.',\n",
        "  {'entities': [(16, 38, 'DISEASE')]}),\n",
        " ('The world is in a race to find a cure for thromboembolic disease as fast as possible',\n",
        "  {'entities': [(42, 64, 'DISEASE')]}),\n",
        " ('A new committee has been formed to research how thromboembolic disease affects the immune system',\n",
        "  {'entities': [(48, 70, 'DISEASE')]}),\n",
        " ('People are in fear that thromboembolic disease is the end of the world.',\n",
        "  {'entities': [(24, 46, 'DISEASE')]}),\n",
        " ('Mankind desperately wants a solution to thromboembolic disease to keep their hopes high.',\n",
        "  {'entities': [(40, 62, 'DISEASE')]}),\n",
        " ('Can we even think of a normal life after what thromboembolic disease has done to human race ?',\n",
        "  {'entities': [(46, 68, 'DISEASE')]}),\n",
        " ('30 percent of the total population exhibits thromboembolic disease',\n",
        "  {'entities': [(44, 66, 'DISEASE')]}),\n",
        " ('An orange a day can help in preventing thromboembolic disease',\n",
        "  {'entities': [(39, 61, 'DISEASE')]}),\n",
        " ('Every pharmaceutical company wants to find a cure for thromboembolic disease',\n",
        "  {'entities': [(54, 76, 'DISEASE')]}),\n",
        " ('What causes thromboembolic disease ?', {'entities': [(12, 34, 'DISEASE')]}),\n",
        " ('Why is there a rise in number of people affected by thromboembolic disease ?',\n",
        "  {'entities': [(52, 74, 'DISEASE')]}),\n",
        " ('Is there any bigger challenge the human race has faced that is bigger than thromboembolic disease ?',\n",
        "  {'entities': [(75, 97, 'DISEASE')]}),\n",
        " ('The way we interact with people has been changed after we were affected by thromboembolic disease',\n",
        "  {'entities': [(75, 97, 'DISEASE')]}),\n",
        " ('Can the immune system of the human body fight thromboembolic disease ?',\n",
        "  {'entities': [(46, 68, 'DISEASE')]}),\n",
        " ('The state of the immunity system plays a much bigger role in fighting thromboembolic disease',\n",
        "  {'entities': [(70, 92, 'DISEASE')]}),\n",
        " ('stroke is a disease that is commonly found in humans',\n",
        "  {'entities': [(0, 6, 'DISEASE')]}),\n",
        " ('stroke can affect the health of humans devastatingly',\n",
        "  {'entities': [(0, 6, 'DISEASE')]}),\n",
        " ('stroke should be informed to the doctor straightaway',\n",
        "  {'entities': [(0, 6, 'DISEASE')]}),\n",
        " ('stroke can cause severe health problems',\n",
        "  {'entities': [(0, 6, 'DISEASE')]}),\n",
        " ('stroke is found in one out of every thousand humans',\n",
        "  {'entities': [(0, 6, 'DISEASE')]}),\n",
        " ('stroke is a mild condition and is not very serious',\n",
        "  {'entities': [(0, 6, 'DISEASE')]}),\n",
        " ('stroke can deplete the immune system rapidly',\n",
        "  {'entities': [(0, 6, 'DISEASE')]}),\n",
        " ('stroke should not be treated using home remedies',\n",
        "  {'entities': [(0, 6, 'DISEASE')]}),\n",
        " ('stroke is usually exhibited by adults', {'entities': [(0, 6, 'DISEASE')]}),\n",
        " ('stroke can ruin your retirement years', {'entities': [(0, 6, 'DISEASE')]}),\n",
        " ('Researches show that stroke is found in adult males over the age 70',\n",
        "  {'entities': [(21, 27, 'DISEASE')]}),\n",
        " ('The cost of treating stroke in in U.S.A is much higher than anywhere in the world',\n",
        "  {'entities': [(21, 27, 'DISEASE')]}),\n",
        " ('Reports say permanent cure for stroke has been found',\n",
        "  {'entities': [(31, 37, 'DISEASE')]}),\n",
        " ('How to cure stroke is the question the world has been asking',\n",
        "  {'entities': [(12, 18, 'DISEASE')]}),\n",
        " ('The company that introduces the vaccine for stroke will be the most successful organisation of the 21st century.',\n",
        "  {'entities': [(44, 50, 'DISEASE')]}),\n",
        " ('In the 21 st century, we have seen a rise in percentage of the population affected by stroke than in previous centuries.',\n",
        "  {'entities': [(86, 92, 'DISEASE')]}),\n",
        " ('The vaccine for stroke has adverse side effects.',\n",
        "  {'entities': [(16, 22, 'DISEASE')]}),\n",
        " ('The world is in a race to find a cure for stroke as fast as possible',\n",
        "  {'entities': [(42, 48, 'DISEASE')]}),\n",
        " ('A new committee has been formed to research how stroke affects the immune system',\n",
        "  {'entities': [(48, 54, 'DISEASE')]}),\n",
        " ('People are in fear that stroke is the end of the world.',\n",
        "  {'entities': [(24, 30, 'DISEASE')]}),\n",
        " ('Mankind desperately wants a solution to stroke to keep their hopes high.',\n",
        "  {'entities': [(40, 46, 'DISEASE')]}),\n",
        " ('Can we even think of a normal life after what stroke has done to human race ?',\n",
        "  {'entities': [(46, 52, 'DISEASE')]}),\n",
        " ('30 percent of the total population exhibits stroke',\n",
        "  {'entities': [(44, 50, 'DISEASE')]}),\n",
        " ('An orange a day can help in preventing stroke',\n",
        "  {'entities': [(39, 45, 'DISEASE')]}),\n",
        " ('Every pharmaceutical company wants to find a cure for stroke',\n",
        "  {'entities': [(54, 60, 'DISEASE')]}),\n",
        " ('What causes stroke ?', {'entities': [(12, 18, 'DISEASE')]}),\n",
        " ('Why is there a rise in number of people affected by stroke ?',\n",
        "  {'entities': [(52, 58, 'DISEASE')]}),\n",
        " ('Is there any bigger challenge the human race has faced that is bigger than stroke ?',\n",
        "  {'entities': [(75, 81, 'DISEASE')]}),\n",
        " ('The way we interact with people has been changed after we were affected by stroke',\n",
        "  {'entities': [(75, 81, 'DISEASE')]}),\n",
        " ('Can the immune system of the human body fight stroke ?',\n",
        "  {'entities': [(46, 52, 'DISEASE')]}),\n",
        " ('The state of the immunity system plays a much bigger role in fighting stroke',\n",
        "  {'entities': [(70, 76, 'DISEASE')]}),\n",
        " ('valvular heart disease is a disease that is commonly found in humans',\n",
        "  {'entities': [(0, 22, 'DISEASE')]}),\n",
        " ('valvular heart disease can affect the health of humans devastatingly',\n",
        "  {'entities': [(0, 22, 'DISEASE')]}),\n",
        " ('valvular heart disease should be informed to the doctor straightaway',\n",
        "  {'entities': [(0, 22, 'DISEASE')]}),\n",
        " ('valvular heart disease can cause severe health problems',\n",
        "  {'entities': [(0, 22, 'DISEASE')]}),\n",
        " ('valvular heart disease is found in one out of every thousand humans',\n",
        "  {'entities': [(0, 22, 'DISEASE')]}),\n",
        " ('valvular heart disease is a mild condition and is not very serious',\n",
        "  {'entities': [(0, 22, 'DISEASE')]}),\n",
        " ('valvular heart disease can deplete the immune system rapidly',\n",
        "  {'entities': [(0, 22, 'DISEASE')]}),\n",
        " ('valvular heart disease should not be treated using home remedies',\n",
        "  {'entities': [(0, 22, 'DISEASE')]}),\n",
        " ('valvular heart disease is usually exhibited by adults',\n",
        "  {'entities': [(0, 22, 'DISEASE')]}),\n",
        " ('valvular heart disease can ruin your retirement years',\n",
        "  {'entities': [(0, 22, 'DISEASE')]}),\n",
        " ('Researches show that valvular heart disease is found in adult males over the age 70',\n",
        "  {'entities': [(21, 43, 'DISEASE')]}),\n",
        " ('The cost of treating valvular heart disease in in U.S.A is much higher than anywhere in the world',\n",
        "  {'entities': [(21, 43, 'DISEASE')]}),\n",
        " ('Reports say permanent cure for valvular heart disease has been found',\n",
        "  {'entities': [(31, 53, 'DISEASE')]}),\n",
        " ('How to cure valvular heart disease is the question the world has been asking',\n",
        "  {'entities': [(12, 34, 'DISEASE')]}),\n",
        " ('The company that introduces the vaccine for valvular heart disease will be the most successful organisation of the 21st century.',\n",
        "  {'entities': [(44, 66, 'DISEASE')]}),\n",
        " ('In the 21 st century, we have seen a rise in percentage of the population affected by valvular heart disease than in previous centuries.',\n",
        "  {'entities': [(86, 108, 'DISEASE')]}),\n",
        " ('The vaccine for valvular heart disease has adverse side effects.',\n",
        "  {'entities': [(16, 38, 'DISEASE')]}),\n",
        " ('The world is in a race to find a cure for valvular heart disease as fast as possible',\n",
        "  {'entities': [(42, 64, 'DISEASE')]}),\n",
        " ('A new committee has been formed to research how valvular heart disease affects the immune system',\n",
        "  {'entities': [(48, 70, 'DISEASE')]}),\n",
        " ('People are in fear that valvular heart disease is the end of the world.',\n",
        "  {'entities': [(24, 46, 'DISEASE')]}),\n",
        " ('Mankind desperately wants a solution to valvular heart disease to keep their hopes high.',\n",
        "  {'entities': [(40, 62, 'DISEASE')]}),\n",
        " ('Can we even think of a normal life after what valvular heart disease has done to human race ?',\n",
        "  {'entities': [(46, 68, 'DISEASE')]}),\n",
        " ('30 percent of the total population exhibits valvular heart disease',\n",
        "  {'entities': [(44, 66, 'DISEASE')]}),\n",
        " ('An orange a day can help in preventing valvular heart disease',\n",
        "  {'entities': [(39, 61, 'DISEASE')]}),\n",
        " ('Every pharmaceutical company wants to find a cure for valvular heart disease',\n",
        "  {'entities': [(54, 76, 'DISEASE')]}),\n",
        " ('What causes valvular heart disease ?', {'entities': [(12, 34, 'DISEASE')]}),\n",
        " ('Why is there a rise in number of people affected by valvular heart disease ?',\n",
        "  {'entities': [(52, 74, 'DISEASE')]}),\n",
        " ('Is there any bigger challenge the human race has faced that is bigger than valvular heart disease ?',\n",
        "  {'entities': [(75, 97, 'DISEASE')]}),\n",
        " ('The way we interact with people has been changed after we were affected by valvular heart disease',\n",
        "  {'entities': [(75, 97, 'DISEASE')]}),\n",
        " ('Can the immune system of the human body fight valvular heart disease ?',\n",
        "  {'entities': [(46, 68, 'DISEASE')]}),\n",
        " ('The state of the immunity system plays a much bigger role in fighting valvular heart disease',\n",
        "  {'entities': [(70, 92, 'DISEASE')]}),\n",
        " ('abnormal heart rhythms is a disease that is commonly found in humans',\n",
        "  {'entities': [(0, 22, 'DISEASE')]}),\n",
        " ('abnormal heart rhythms can affect the health of humans devastatingly',\n",
        "  {'entities': [(0, 22, 'DISEASE')]}),\n",
        " ('abnormal heart rhythms should be informed to the doctor straightaway',\n",
        "  {'entities': [(0, 22, 'DISEASE')]}),\n",
        " ('abnormal heart rhythms can cause severe health problems',\n",
        "  {'entities': [(0, 22, 'DISEASE')]}),\n",
        " ('abnormal heart rhythms is found in one out of every thousand humans',\n",
        "  {'entities': [(0, 22, 'DISEASE')]}),\n",
        " ('abnormal heart rhythms is a mild condition and is not very serious',\n",
        "  {'entities': [(0, 22, 'DISEASE')]}),\n",
        " ('abnormal heart rhythms can deplete the immune system rapidly',\n",
        "  {'entities': [(0, 22, 'DISEASE')]}),\n",
        " ('abnormal heart rhythms should not be treated using home remedies',\n",
        "  {'entities': [(0, 22, 'DISEASE')]}),\n",
        " ('abnormal heart rhythms is usually exhibited by adults',\n",
        "  {'entities': [(0, 22, 'DISEASE')]}),\n",
        " ('abnormal heart rhythms can ruin your retirement years',\n",
        "  {'entities': [(0, 22, 'DISEASE')]}),\n",
        " ('Researches show that abnormal heart rhythms is found in adult males over the age 70',\n",
        "  {'entities': [(21, 43, 'DISEASE')]}),\n",
        " ('The cost of treating abnormal heart rhythms in in U.S.A is much higher than anywhere in the world',\n",
        "  {'entities': [(21, 43, 'DISEASE')]}),\n",
        " ('Reports say permanent cure for abnormal heart rhythms has been found',\n",
        "  {'entities': [(31, 53, 'DISEASE')]}),\n",
        " ('How to cure abnormal heart rhythms is the question the world has been asking',\n",
        "  {'entities': [(12, 34, 'DISEASE')]}),\n",
        " ('The company that introduces the vaccine for abnormal heart rhythms will be the most successful organisation of the 21st century.',\n",
        "  {'entities': [(44, 66, 'DISEASE')]}),\n",
        " ('In the 21 st century, we have seen a rise in percentage of the population affected by abnormal heart rhythms than in previous centuries.',\n",
        "  {'entities': [(86, 108, 'DISEASE')]}),\n",
        " ('The vaccine for abnormal heart rhythms has adverse side effects.',\n",
        "  {'entities': [(16, 38, 'DISEASE')]}),\n",
        " ('The world is in a race to find a cure for abnormal heart rhythms as fast as possible',\n",
        "  {'entities': [(42, 64, 'DISEASE')]}),\n",
        " ('A new committee has been formed to research how abnormal heart rhythms affects the immune system',\n",
        "  {'entities': [(48, 70, 'DISEASE')]}),\n",
        " ('People are in fear that abnormal heart rhythms is the end of the world.',\n",
        "  {'entities': [(24, 46, 'DISEASE')]}),\n",
        " ('Mankind desperately wants a solution to abnormal heart rhythms to keep their hopes high.',\n",
        "  {'entities': [(40, 62, 'DISEASE')]}),\n",
        " ('Can we even think of a normal life after what abnormal heart rhythms has done to human race ?',\n",
        "  {'entities': [(46, 68, 'DISEASE')]}),\n",
        " ('30 percent of the total population exhibits abnormal heart rhythms',\n",
        "  {'entities': [(44, 66, 'DISEASE')]}),\n",
        " ('An orange a day can help in preventing abnormal heart rhythms',\n",
        "  {'entities': [(39, 61, 'DISEASE')]}),\n",
        " ('Every pharmaceutical company wants to find a cure for abnormal heart rhythms',\n",
        "  {'entities': [(54, 76, 'DISEASE')]}),\n",
        " ('What causes abnormal heart rhythms ?', {'entities': [(12, 34, 'DISEASE')]}),\n",
        " ('Why is there a rise in number of people affected by abnormal heart rhythms ?',\n",
        "  {'entities': [(52, 74, 'DISEASE')]}),\n",
        " ('Is there any bigger challenge the human race has faced that is bigger than abnormal heart rhythms ?',\n",
        "  {'entities': [(75, 97, 'DISEASE')]}),\n",
        " ('The way we interact with people has been changed after we were affected by abnormal heart rhythms',\n",
        "  {'entities': [(75, 97, 'DISEASE')]}),\n",
        " ('Can the immune system of the human body fight abnormal heart rhythms ?',\n",
        "  {'entities': [(46, 68, 'DISEASE')]}),\n",
        " ('The state of the immunity system plays a much bigger role in fighting abnormal heart rhythms',\n",
        "  {'entities': [(70, 92, 'DISEASE')]}),\n",
        " ('aortic aneurysms is a disease that is commonly found in humans',\n",
        "  {'entities': [(0, 16, 'DISEASE')]}),\n",
        " ('aortic aneurysms can affect the health of humans devastatingly',\n",
        "  {'entities': [(0, 16, 'DISEASE')]}),\n",
        " ('aortic aneurysms should be informed to the doctor straightaway',\n",
        "  {'entities': [(0, 16, 'DISEASE')]}),\n",
        " ('aortic aneurysms can cause severe health problems',\n",
        "  {'entities': [(0, 16, 'DISEASE')]}),\n",
        " ('aortic aneurysms is found in one out of every thousand humans',\n",
        "  {'entities': [(0, 16, 'DISEASE')]}),\n",
        " ('aortic aneurysms is a mild condition and is not very serious',\n",
        "  {'entities': [(0, 16, 'DISEASE')]}),\n",
        " ('aortic aneurysms can deplete the immune system rapidly',\n",
        "  {'entities': [(0, 16, 'DISEASE')]}),\n",
        " ('aortic aneurysms should not be treated using home remedies',\n",
        "  {'entities': [(0, 16, 'DISEASE')]}),\n",
        " ('aortic aneurysms is usually exhibited by adults',\n",
        "  {'entities': [(0, 16, 'DISEASE')]}),\n",
        " ('aortic aneurysms can ruin your retirement years',\n",
        "  {'entities': [(0, 16, 'DISEASE')]}),\n",
        " ('Researches show that aortic aneurysms is found in adult males over the age 70',\n",
        "  {'entities': [(21, 37, 'DISEASE')]}),\n",
        " ('The cost of treating aortic aneurysms in in U.S.A is much higher than anywhere in the world',\n",
        "  {'entities': [(21, 37, 'DISEASE')]}),\n",
        " ('Reports say permanent cure for aortic aneurysms has been found',\n",
        "  {'entities': [(31, 47, 'DISEASE')]}),\n",
        " ('How to cure aortic aneurysms is the question the world has been asking',\n",
        "  {'entities': [(12, 28, 'DISEASE')]}),\n",
        " ('The company that introduces the vaccine for aortic aneurysms will be the most successful organisation of the 21st century.',\n",
        "  {'entities': [(44, 60, 'DISEASE')]}),\n",
        " ('In the 21 st century, we have seen a rise in percentage of the population affected by aortic aneurysms than in previous centuries.',\n",
        "  {'entities': [(86, 102, 'DISEASE')]}),\n",
        " ('The vaccine for aortic aneurysms has adverse side effects.',\n",
        "  {'entities': [(16, 32, 'DISEASE')]}),\n",
        " ('The world is in a race to find a cure for aortic aneurysms as fast as possible',\n",
        "  {'entities': [(42, 58, 'DISEASE')]}),\n",
        " ('A new committee has been formed to research how aortic aneurysms affects the immune system',\n",
        "  {'entities': [(48, 64, 'DISEASE')]}),\n",
        " ('People are in fear that aortic aneurysms is the end of the world.',\n",
        "  {'entities': [(24, 40, 'DISEASE')]}),\n",
        " ('Mankind desperately wants a solution to aortic aneurysms to keep their hopes high.',\n",
        "  {'entities': [(40, 56, 'DISEASE')]}),\n",
        " ('Can we even think of a normal life after what aortic aneurysms has done to human race ?',\n",
        "  {'entities': [(46, 62, 'DISEASE')]}),\n",
        " ('30 percent of the total population exhibits aortic aneurysms',\n",
        "  {'entities': [(44, 60, 'DISEASE')]}),\n",
        " ('An orange a day can help in preventing aortic aneurysms',\n",
        "  {'entities': [(39, 55, 'DISEASE')]}),\n",
        " ('Every pharmaceutical company wants to find a cure for aortic aneurysms',\n",
        "  {'entities': [(54, 70, 'DISEASE')]}),\n",
        " ('What causes aortic aneurysms ?', {'entities': [(12, 28, 'DISEASE')]}),\n",
        " ('Why is there a rise in number of people affected by aortic aneurysms ?',\n",
        "  {'entities': [(52, 68, 'DISEASE')]}),\n",
        " ('Is there any bigger challenge the human race has faced that is bigger than aortic aneurysms ?',\n",
        "  {'entities': [(75, 91, 'DISEASE')]}),\n",
        " ('The way we interact with people has been changed after we were affected by aortic aneurysms',\n",
        "  {'entities': [(75, 91, 'DISEASE')]}),\n",
        " ('Can the immune system of the human body fight aortic aneurysms ?',\n",
        "  {'entities': [(46, 62, 'DISEASE')]}),\n",
        " ('The state of the immunity system plays a much bigger role in fighting aortic aneurysms',\n",
        "  {'entities': [(70, 86, 'DISEASE')]}),\n",
        " ('coronary artery diseases is a disease that is commonly found in humans',\n",
        "  {'entities': [(0, 24, 'DISEASE')]}),\n",
        " ('coronary artery diseases can affect the health of humans devastatingly',\n",
        "  {'entities': [(0, 24, 'DISEASE')]}),\n",
        " ('coronary artery diseases should be informed to the doctor straightaway',\n",
        "  {'entities': [(0, 24, 'DISEASE')]}),\n",
        " ('coronary artery diseases can cause severe health problems',\n",
        "  {'entities': [(0, 24, 'DISEASE')]}),\n",
        " ('coronary artery diseases is found in one out of every thousand humans',\n",
        "  {'entities': [(0, 24, 'DISEASE')]}),\n",
        " ('coronary artery diseases is a mild condition and is not very serious',\n",
        "  {'entities': [(0, 24, 'DISEASE')]}),\n",
        " ('coronary artery diseases can deplete the immune system rapidly',\n",
        "  {'entities': [(0, 24, 'DISEASE')]}),\n",
        " ('coronary artery diseases should not be treated using home remedies',\n",
        "  {'entities': [(0, 24, 'DISEASE')]}),\n",
        " ('coronary artery diseases is usually exhibited by adults',\n",
        "  {'entities': [(0, 24, 'DISEASE')]}),\n",
        " ('coronary artery diseases can ruin your retirement years',\n",
        "  {'entities': [(0, 24, 'DISEASE')]}),\n",
        " ('Researches show that coronary artery diseases is found in adult males over the age 70',\n",
        "  {'entities': [(21, 45, 'DISEASE')]}),\n",
        " ('The cost of treating coronary artery diseases in in U.S.A is much higher than anywhere in the world',\n",
        "  {'entities': [(21, 45, 'DISEASE')]}),\n",
        " ('Reports say permanent cure for coronary artery diseases has been found',\n",
        "  {'entities': [(31, 55, 'DISEASE')]}),\n",
        " ('How to cure coronary artery diseases is the question the world has been asking',\n",
        "  {'entities': [(12, 36, 'DISEASE')]}),\n",
        " ('The company that introduces the vaccine for coronary artery diseases will be the most successful organisation of the 21st century.',\n",
        "  {'entities': [(44, 68, 'DISEASE')]}),\n",
        " ('In the 21 st century, we have seen a rise in percentage of the population affected by coronary artery diseases than in previous centuries.',\n",
        "  {'entities': [(86, 110, 'DISEASE')]}),\n",
        " ('The vaccine for coronary artery diseases has adverse side effects.',\n",
        "  {'entities': [(16, 40, 'DISEASE')]}),\n",
        " ('The world is in a race to find a cure for coronary artery diseases as fast as possible',\n",
        "  {'entities': [(42, 66, 'DISEASE')]}),\n",
        " ('A new committee has been formed to research how coronary artery diseases affects the immune system',\n",
        "  {'entities': [(48, 72, 'DISEASE')]}),\n",
        " ('People are in fear that coronary artery diseases is the end of the world.',\n",
        "  {'entities': [(24, 48, 'DISEASE')]}),\n",
        " ('Mankind desperately wants a solution to coronary artery diseases to keep their hopes high.',\n",
        "  {'entities': [(40, 64, 'DISEASE')]}),\n",
        " ('Can we even think of a normal life after what coronary artery diseases has done to human race ?',\n",
        "  {'entities': [(46, 70, 'DISEASE')]}),\n",
        " ('30 percent of the total population exhibits coronary artery diseases',\n",
        "  {'entities': [(44, 68, 'DISEASE')]}),\n",
        " ('An orange a day can help in preventing coronary artery diseases',\n",
        "  {'entities': [(39, 63, 'DISEASE')]}),\n",
        " ('Every pharmaceutical company wants to find a cure for coronary artery diseases',\n",
        "  {'entities': [(54, 78, 'DISEASE')]}),\n",
        " ('What causes coronary artery diseases ?',\n",
        "  {'entities': [(12, 36, 'DISEASE')]}),\n",
        " ('Why is there a rise in number of people affected by coronary artery diseases ?',\n",
        "  {'entities': [(52, 76, 'DISEASE')]}),\n",
        " ('Is there any bigger challenge the human race has faced that is bigger than coronary artery diseases ?',\n",
        "  {'entities': [(75, 99, 'DISEASE')]}),\n",
        " ('The way we interact with people has been changed after we were affected by coronary artery diseases',\n",
        "  {'entities': [(75, 99, 'DISEASE')]}),\n",
        " ('Can the immune system of the human body fight coronary artery diseases ?',\n",
        "  {'entities': [(46, 70, 'DISEASE')]}),\n",
        " ('The state of the immunity system plays a much bigger role in fighting coronary artery diseases',\n",
        "  {'entities': [(70, 94, 'DISEASE')]}),\n",
        " ('heart failure is a disease that is commonly found in humans',\n",
        "  {'entities': [(0, 13, 'DISEASE')]}),\n",
        " ('heart failure can affect the health of humans devastatingly',\n",
        "  {'entities': [(0, 13, 'DISEASE')]}),\n",
        " ('heart failure should be informed to the doctor straightaway',\n",
        "  {'entities': [(0, 13, 'DISEASE')]}),\n",
        " ('heart failure can cause severe health problems',\n",
        "  {'entities': [(0, 13, 'DISEASE')]}),\n",
        " ('heart failure is found in one out of every thousand humans',\n",
        "  {'entities': [(0, 13, 'DISEASE')]}),\n",
        " ('heart failure is a mild condition and is not very serious',\n",
        "  {'entities': [(0, 13, 'DISEASE')]}),\n",
        " ('heart failure can deplete the immune system rapidly',\n",
        "  {'entities': [(0, 13, 'DISEASE')]}),\n",
        " ('heart failure should not be treated using home remedies',\n",
        "  {'entities': [(0, 13, 'DISEASE')]}),\n",
        " ('heart failure is usually exhibited by adults',\n",
        "  {'entities': [(0, 13, 'DISEASE')]}),\n",
        " ('heart failure can ruin your retirement years',\n",
        "  {'entities': [(0, 13, 'DISEASE')]}),\n",
        " ('Researches show that heart failure is found in adult males over the age 70',\n",
        "  {'entities': [(21, 34, 'DISEASE')]}),\n",
        " ('The cost of treating heart failure in in U.S.A is much higher than anywhere in the world',\n",
        "  {'entities': [(21, 34, 'DISEASE')]}),\n",
        " ('Reports say permanent cure for heart failure has been found',\n",
        "  {'entities': [(31, 44, 'DISEASE')]}),\n",
        " ('How to cure heart failure is the question the world has been asking',\n",
        "  {'entities': [(12, 25, 'DISEASE')]}),\n",
        " ('The company that introduces the vaccine for heart failure will be the most successful organisation of the 21st century.',\n",
        "  {'entities': [(44, 57, 'DISEASE')]}),\n",
        " ('In the 21 st century, we have seen a rise in percentage of the population affected by heart failure than in previous centuries.',\n",
        "  {'entities': [(86, 99, 'DISEASE')]}),\n",
        " ('The vaccine for heart failure has adverse side effects.',\n",
        "  {'entities': [(16, 29, 'DISEASE')]}),\n",
        " ('The world is in a race to find a cure for heart failure as fast as possible',\n",
        "  {'entities': [(42, 55, 'DISEASE')]}),\n",
        " ('A new committee has been formed to research how heart failure affects the immune system',\n",
        "  {'entities': [(48, 61, 'DISEASE')]}),\n",
        " ('People are in fear that heart failure is the end of the world.',\n",
        "  {'entities': [(24, 37, 'DISEASE')]}),\n",
        " ('Mankind desperately wants a solution to heart failure to keep their hopes high.',\n",
        "  {'entities': [(40, 53, 'DISEASE')]}),\n",
        " ('Can we even think of a normal life after what heart failure has done to human race ?',\n",
        "  {'entities': [(46, 59, 'DISEASE')]}),\n",
        " ('30 percent of the total population exhibits heart failure',\n",
        "  {'entities': [(44, 57, 'DISEASE')]}),\n",
        " ('An orange a day can help in preventing heart failure',\n",
        "  {'entities': [(39, 52, 'DISEASE')]}),\n",
        " ('Every pharmaceutical company wants to find a cure for heart failure',\n",
        "  {'entities': [(54, 67, 'DISEASE')]}),\n",
        " ('What causes heart failure ?', {'entities': [(12, 25, 'DISEASE')]}),\n",
        " ('Why is there a rise in number of people affected by heart failure ?',\n",
        "  {'entities': [(52, 65, 'DISEASE')]}),\n",
        " ('Is there any bigger challenge the human race has faced that is bigger than heart failure ?',\n",
        "  {'entities': [(75, 88, 'DISEASE')]}),\n",
        " ('The way we interact with people has been changed after we were affected by heart failure',\n",
        "  {'entities': [(75, 88, 'DISEASE')]}),\n",
        " ('Can the immune system of the human body fight heart failure ?',\n",
        "  {'entities': [(46, 59, 'DISEASE')]}),\n",
        " ('The state of the immunity system plays a much bigger role in fighting heart failure',\n",
        "  {'entities': [(70, 83, 'DISEASE')]}),\n",
        " ('rheumatic heart disease is a disease that is commonly found in humans',\n",
        "  {'entities': [(0, 23, 'DISEASE')]}),\n",
        " ('rheumatic heart disease can affect the health of humans devastatingly',\n",
        "  {'entities': [(0, 23, 'DISEASE')]}),\n",
        " ('rheumatic heart disease should be informed to the doctor straightaway',\n",
        "  {'entities': [(0, 23, 'DISEASE')]}),\n",
        " ('rheumatic heart disease can cause severe health problems',\n",
        "  {'entities': [(0, 23, 'DISEASE')]}),\n",
        " ('rheumatic heart disease is found in one out of every thousand humans',\n",
        "  {'entities': [(0, 23, 'DISEASE')]}),\n",
        " ('rheumatic heart disease is a mild condition and is not very serious',\n",
        "  {'entities': [(0, 23, 'DISEASE')]}),\n",
        " ('rheumatic heart disease can deplete the immune system rapidly',\n",
        "  {'entities': [(0, 23, 'DISEASE')]}),\n",
        " ('rheumatic heart disease should not be treated using home remedies',\n",
        "  {'entities': [(0, 23, 'DISEASE')]}),\n",
        " ('rheumatic heart disease is usually exhibited by adults',\n",
        "  {'entities': [(0, 23, 'DISEASE')]}),\n",
        " ('rheumatic heart disease can ruin your retirement years',\n",
        "  {'entities': [(0, 23, 'DISEASE')]}),\n",
        " ('Researches show that rheumatic heart disease is found in adult males over the age 70',\n",
        "  {'entities': [(21, 44, 'DISEASE')]}),\n",
        " ('The cost of treating rheumatic heart disease in in U.S.A is much higher than anywhere in the world',\n",
        "  {'entities': [(21, 44, 'DISEASE')]}),\n",
        " ('Reports say permanent cure for rheumatic heart disease has been found',\n",
        "  {'entities': [(31, 54, 'DISEASE')]}),\n",
        " ('How to cure rheumatic heart disease is the question the world has been asking',\n",
        "  {'entities': [(12, 35, 'DISEASE')]}),\n",
        " ('The company that introduces the vaccine for rheumatic heart disease will be the most successful organisation of the 21st century.',\n",
        "  {'entities': [(44, 67, 'DISEASE')]}),\n",
        " ('In the 21 st century, we have seen a rise in percentage of the population affected by rheumatic heart disease than in previous centuries.',\n",
        "  {'entities': [(86, 109, 'DISEASE')]}),\n",
        " ('The vaccine for rheumatic heart disease has adverse side effects.',\n",
        "  {'entities': [(16, 39, 'DISEASE')]}),\n",
        " ('The world is in a race to find a cure for rheumatic heart disease as fast as possible',\n",
        "  {'entities': [(42, 65, 'DISEASE')]}),\n",
        " ('A new committee has been formed to research how rheumatic heart disease affects the immune system',\n",
        "  {'entities': [(48, 71, 'DISEASE')]}),\n",
        " ('People are in fear that rheumatic heart disease is the end of the world.',\n",
        "  {'entities': [(24, 47, 'DISEASE')]}),\n",
        " ('Mankind desperately wants a solution to rheumatic heart disease to keep their hopes high.',\n",
        "  {'entities': [(40, 63, 'DISEASE')]}),\n",
        " ('Can we even think of a normal life after what rheumatic heart disease has done to human race ?',\n",
        "  {'entities': [(46, 69, 'DISEASE')]}),\n",
        " ('30 percent of the total population exhibits rheumatic heart disease',\n",
        "  {'entities': [(44, 67, 'DISEASE')]}),\n",
        " ('An orange a day can help in preventing rheumatic heart disease',\n",
        "  {'entities': [(39, 62, 'DISEASE')]}),\n",
        " ('Every pharmaceutical company wants to find a cure for rheumatic heart disease',\n",
        "  {'entities': [(54, 77, 'DISEASE')]}),\n",
        " ('What causes rheumatic heart disease ?',\n",
        "  {'entities': [(12, 35, 'DISEASE')]}),\n",
        " ('Why is there a rise in number of people affected by rheumatic heart disease ?',\n",
        "  {'entities': [(52, 75, 'DISEASE')]}),\n",
        " ('Is there any bigger challenge the human race has faced that is bigger than rheumatic heart disease ?',\n",
        "  {'entities': [(75, 98, 'DISEASE')]}),\n",
        " ('The way we interact with people has been changed after we were affected by rheumatic heart disease',\n",
        "  {'entities': [(75, 98, 'DISEASE')]}),\n",
        " ('Can the immune system of the human body fight rheumatic heart disease ?',\n",
        "  {'entities': [(46, 69, 'DISEASE')]}),\n",
        " ('The state of the immunity system plays a much bigger role in fighting rheumatic heart disease',\n",
        "  {'entities': [(70, 93, 'DISEASE')]}),\n",
        " ('cardiomyopathy is a disease that is commonly found in humans',\n",
        "  {'entities': [(0, 14, 'DISEASE')]}),\n",
        " ('cardiomyopathy can affect the health of humans devastatingly',\n",
        "  {'entities': [(0, 14, 'DISEASE')]}),\n",
        " ('cardiomyopathy should be informed to the doctor straightaway',\n",
        "  {'entities': [(0, 14, 'DISEASE')]}),\n",
        " ('cardiomyopathy can cause severe health problems',\n",
        "  {'entities': [(0, 14, 'DISEASE')]}),\n",
        " ('cardiomyopathy is found in one out of every thousand humans',\n",
        "  {'entities': [(0, 14, 'DISEASE')]}),\n",
        " ('cardiomyopathy is a mild condition and is not very serious',\n",
        "  {'entities': [(0, 14, 'DISEASE')]}),\n",
        " ('cardiomyopathy can deplete the immune system rapidly',\n",
        "  {'entities': [(0, 14, 'DISEASE')]}),\n",
        " ('cardiomyopathy should not be treated using home remedies',\n",
        "  {'entities': [(0, 14, 'DISEASE')]}),\n",
        " ('cardiomyopathy is usually exhibited by adults',\n",
        "  {'entities': [(0, 14, 'DISEASE')]}),\n",
        " ('cardiomyopathy can ruin your retirement years',\n",
        "  {'entities': [(0, 14, 'DISEASE')]}),\n",
        " ('Researches show that cardiomyopathy is found in adult males over the age 70',\n",
        "  {'entities': [(21, 35, 'DISEASE')]}),\n",
        " ('The cost of treating cardiomyopathy in in U.S.A is much higher than anywhere in the world',\n",
        "  {'entities': [(21, 35, 'DISEASE')]}),\n",
        " ('Reports say permanent cure for cardiomyopathy has been found',\n",
        "  {'entities': [(31, 45, 'DISEASE')]}),\n",
        " ('How to cure cardiomyopathy is the question the world has been asking',\n",
        "  {'entities': [(12, 26, 'DISEASE')]}),\n",
        " ('The company that introduces the vaccine for cardiomyopathy will be the most successful organisation of the 21st century.',\n",
        "  {'entities': [(44, 58, 'DISEASE')]}),\n",
        " ('In the 21 st century, we have seen a rise in percentage of the population affected by cardiomyopathy than in previous centuries.',\n",
        "  {'entities': [(86, 100, 'DISEASE')]}),\n",
        " ('The vaccine for cardiomyopathy has adverse side effects.',\n",
        "  {'entities': [(16, 30, 'DISEASE')]}),\n",
        " ('The world is in a race to find a cure for cardiomyopathy as fast as possible',\n",
        "  {'entities': [(42, 56, 'DISEASE')]}),\n",
        " ('A new committee has been formed to research how cardiomyopathy affects the immune system',\n",
        "  {'entities': [(48, 62, 'DISEASE')]}),\n",
        " ('People are in fear that cardiomyopathy is the end of the world.',\n",
        "  {'entities': [(24, 38, 'DISEASE')]}),\n",
        " ('Mankind desperately wants a solution to cardiomyopathy to keep their hopes high.',\n",
        "  {'entities': [(40, 54, 'DISEASE')]}),\n",
        " ('Can we even think of a normal life after what cardiomyopathy has done to human race ?',\n",
        "  {'entities': [(46, 60, 'DISEASE')]}),\n",
        " ('30 percent of the total population exhibits cardiomyopathy',\n",
        "  {'entities': [(44, 58, 'DISEASE')]}),\n",
        " ('An orange a day can help in preventing cardiomyopathy',\n",
        "  {'entities': [(39, 53, 'DISEASE')]}),\n",
        " ('Every pharmaceutical company wants to find a cure for cardiomyopathy',\n",
        "  {'entities': [(54, 68, 'DISEASE')]}),\n",
        " ('What causes cardiomyopathy ?', {'entities': [(12, 26, 'DISEASE')]}),\n",
        " ('Why is there a rise in number of people affected by cardiomyopathy ?',\n",
        "  {'entities': [(52, 66, 'DISEASE')]}),\n",
        " ('Is there any bigger challenge the human race has faced that is bigger than cardiomyopathy ?',\n",
        "  {'entities': [(75, 89, 'DISEASE')]}),\n",
        " ('The way we interact with people has been changed after we were affected by cardiomyopathy',\n",
        "  {'entities': [(75, 89, 'DISEASE')]}),\n",
        " ('Can the immune system of the human body fight cardiomyopathy ?',\n",
        "  {'entities': [(46, 60, 'DISEASE')]}),\n",
        " ('The state of the immunity system plays a much bigger role in fighting cardiomyopathy',\n",
        "  {'entities': [(70, 84, 'DISEASE')]}),\n",
        " ('hypertensive heart disease is a disease that is commonly found in humans',\n",
        "  {'entities': [(0, 26, 'DISEASE')]}),\n",
        " ('hypertensive heart disease can affect the health of humans devastatingly',\n",
        "  {'entities': [(0, 26, 'DISEASE')]}),\n",
        " ('hypertensive heart disease should be informed to the doctor straightaway',\n",
        "  {'entities': [(0, 26, 'DISEASE')]}),\n",
        " ('hypertensive heart disease can cause severe health problems',\n",
        "  {'entities': [(0, 26, 'DISEASE')]}),\n",
        " ('hypertensive heart disease is found in one out of every thousand humans',\n",
        "  {'entities': [(0, 26, 'DISEASE')]}),\n",
        " ('hypertensive heart disease is a mild condition and is not very serious',\n",
        "  {'entities': [(0, 26, 'DISEASE')]}),\n",
        " ('hypertensive heart disease can deplete the immune system rapidly',\n",
        "  {'entities': [(0, 26, 'DISEASE')]}),\n",
        " ('hypertensive heart disease should not be treated using home remedies',\n",
        "  {'entities': [(0, 26, 'DISEASE')]}),\n",
        " ('hypertensive heart disease is usually exhibited by adults',\n",
        "  {'entities': [(0, 26, 'DISEASE')]}),\n",
        " ('hypertensive heart disease can ruin your retirement years',\n",
        "  {'entities': [(0, 26, 'DISEASE')]}),\n",
        " ('Researches show that hypertensive heart disease is found in adult males over the age 70',\n",
        "  {'entities': [(21, 47, 'DISEASE')]}),\n",
        " ('The cost of treating hypertensive heart disease in in U.S.A is much higher than anywhere in the world',\n",
        "  {'entities': [(21, 47, 'DISEASE')]}),\n",
        " ('Reports say permanent cure for hypertensive heart disease has been found',\n",
        "  {'entities': [(31, 57, 'DISEASE')]}),\n",
        " ('How to cure hypertensive heart disease is the question the world has been asking',\n",
        "  {'entities': [(12, 38, 'DISEASE')]}),\n",
        " ('The company that introduces the vaccine for hypertensive heart disease will be the most successful organisation of the 21st century.',\n",
        "  {'entities': [(44, 70, 'DISEASE')]}),\n",
        " ('In the 21 st century, we have seen a rise in percentage of the population affected by hypertensive heart disease than in previous centuries.',\n",
        "  {'entities': [(86, 112, 'DISEASE')]}),\n",
        " ('The vaccine for hypertensive heart disease has adverse side effects.',\n",
        "  {'entities': [(16, 42, 'DISEASE')]}),\n",
        " ('The world is in a race to find a cure for hypertensive heart disease as fast as possible',\n",
        "  {'entities': [(42, 68, 'DISEASE')]}),\n",
        " ('A new committee has been formed to research how hypertensive heart disease affects the immune system',\n",
        "  {'entities': [(48, 74, 'DISEASE')]}),\n",
        " ('People are in fear that hypertensive heart disease is the end of the world.',\n",
        "  {'entities': [(24, 50, 'DISEASE')]}),\n",
        " ('Mankind desperately wants a solution to hypertensive heart disease to keep their hopes high.',\n",
        "  {'entities': [(40, 66, 'DISEASE')]}),\n",
        " ('Can we even think of a normal life after what hypertensive heart disease has done to human race ?',\n",
        "  {'entities': [(46, 72, 'DISEASE')]}),\n",
        " ('30 percent of the total population exhibits hypertensive heart disease',\n",
        "  {'entities': [(44, 70, 'DISEASE')]}),\n",
        " ('An orange a day can help in preventing hypertensive heart disease',\n",
        "  {'entities': [(39, 65, 'DISEASE')]}),\n",
        " ('Every pharmaceutical company wants to find a cure for hypertensive heart disease',\n",
        "  {'entities': [(54, 80, 'DISEASE')]}),\n",
        " ('What causes hypertensive heart disease ?',\n",
        "  {'entities': [(12, 38, 'DISEASE')]}),\n",
        " ('Why is there a rise in number of people affected by hypertensive heart disease ?',\n",
        "  {'entities': [(52, 78, 'DISEASE')]}),\n",
        " ('Is there any bigger challenge the human race has faced that is bigger than hypertensive heart disease ?',\n",
        "  {'entities': [(75, 101, 'DISEASE')]}),\n",
        " ('The way we interact with people has been changed after we were affected by hypertensive heart disease',\n",
        "  {'entities': [(75, 101, 'DISEASE')]}),\n",
        " ('Can the immune system of the human body fight hypertensive heart disease ?',\n",
        "  {'entities': [(46, 72, 'DISEASE')]}),\n",
        " ('The state of the immunity system plays a much bigger role in fighting hypertensive heart disease',\n",
        "  {'entities': [(70, 96, 'DISEASE')]}),\n",
        " ('myocardial infarction is a disease that is commonly found in humans',\n",
        "  {'entities': [(0, 21, 'DISEASE')]}),\n",
        " ('myocardial infarction can affect the health of humans devastatingly',\n",
        "  {'entities': [(0, 21, 'DISEASE')]}),\n",
        " ('myocardial infarction should be informed to the doctor straightaway',\n",
        "  {'entities': [(0, 21, 'DISEASE')]}),\n",
        " ('myocardial infarction can cause severe health problems',\n",
        "  {'entities': [(0, 21, 'DISEASE')]}),\n",
        " ('myocardial infarction is found in one out of every thousand humans',\n",
        "  {'entities': [(0, 21, 'DISEASE')]}),\n",
        " ('myocardial infarction is a mild condition and is not very serious',\n",
        "  {'entities': [(0, 21, 'DISEASE')]}),\n",
        " ('myocardial infarction can deplete the immune system rapidly',\n",
        "  {'entities': [(0, 21, 'DISEASE')]}),\n",
        " ('myocardial infarction should not be treated using home remedies',\n",
        "  {'entities': [(0, 21, 'DISEASE')]}),\n",
        " ('myocardial infarction is usually exhibited by adults',\n",
        "  {'entities': [(0, 21, 'DISEASE')]}),\n",
        " ('myocardial infarction can ruin your retirement years',\n",
        "  {'entities': [(0, 21, 'DISEASE')]}),\n",
        " ('Researches show that myocardial infarction is found in adult males over the age 70',\n",
        "  {'entities': [(21, 42, 'DISEASE')]}),\n",
        " ('The cost of treating myocardial infarction in in U.S.A is much higher than anywhere in the world',\n",
        "  {'entities': [(21, 42, 'DISEASE')]}),\n",
        " ('Reports say permanent cure for myocardial infarction has been found',\n",
        "  {'entities': [(31, 52, 'DISEASE')]}),\n",
        " ('How to cure myocardial infarction is the question the world has been asking',\n",
        "  {'entities': [(12, 33, 'DISEASE')]}),\n",
        " ('The company that introduces the vaccine for myocardial infarction will be the most successful organisation of the 21st century.',\n",
        "  {'entities': [(44, 65, 'DISEASE')]}),\n",
        " ('In the 21 st century, we have seen a rise in percentage of the population affected by myocardial infarction than in previous centuries.',\n",
        "  {'entities': [(86, 107, 'DISEASE')]}),\n",
        " ('The vaccine for myocardial infarction has adverse side effects.',\n",
        "  {'entities': [(16, 37, 'DISEASE')]}),\n",
        " ('The world is in a race to find a cure for myocardial infarction as fast as possible',\n",
        "  {'entities': [(42, 63, 'DISEASE')]}),\n",
        " ('A new committee has been formed to research how myocardial infarction affects the immune system',\n",
        "  {'entities': [(48, 69, 'DISEASE')]}),\n",
        " ('People are in fear that myocardial infarction is the end of the world.',\n",
        "  {'entities': [(24, 45, 'DISEASE')]}),\n",
        " ('Mankind desperately wants a solution to myocardial infarction to keep their hopes high.',\n",
        "  {'entities': [(40, 61, 'DISEASE')]}),\n",
        " ('Can we even think of a normal life after what myocardial infarction has done to human race ?',\n",
        "  {'entities': [(46, 67, 'DISEASE')]}),\n",
        " ('30 percent of the total population exhibits myocardial infarction',\n",
        "  {'entities': [(44, 65, 'DISEASE')]}),\n",
        " ('An orange a day can help in preventing myocardial infarction',\n",
        "  {'entities': [(39, 60, 'DISEASE')]}),\n",
        " ('Every pharmaceutical company wants to find a cure for myocardial infarction',\n",
        "  {'entities': [(54, 75, 'DISEASE')]}),\n",
        " ('What causes myocardial infarction ?', {'entities': [(12, 33, 'DISEASE')]}),\n",
        " ('Why is there a rise in number of people affected by myocardial infarction ?',\n",
        "  {'entities': [(52, 73, 'DISEASE')]}),\n",
        " ('Is there any bigger challenge the human race has faced that is bigger than myocardial infarction ?',\n",
        "  {'entities': [(75, 96, 'DISEASE')]}),\n",
        " ('The way we interact with people has been changed after we were affected by myocardial infarction',\n",
        "  {'entities': [(75, 96, 'DISEASE')]}),\n",
        " ('Can the immune system of the human body fight myocardial infarction ?',\n",
        "  {'entities': [(46, 67, 'DISEASE')]}),\n",
        " ('The state of the immunity system plays a much bigger role in fighting myocardial infarction',\n",
        "  {'entities': [(70, 91, 'DISEASE')]}),\n",
        " ('peripheral artery disease is a disease that is commonly found in humans',\n",
        "  {'entities': [(0, 25, 'DISEASE')]}),\n",
        " ('peripheral artery disease can affect the health of humans devastatingly',\n",
        "  {'entities': [(0, 25, 'DISEASE')]}),\n",
        " ('peripheral artery disease should be informed to the doctor straightaway',\n",
        "  {'entities': [(0, 25, 'DISEASE')]}),\n",
        " ('peripheral artery disease can cause severe health problems',\n",
        "  {'entities': [(0, 25, 'DISEASE')]}),\n",
        " ('peripheral artery disease is found in one out of every thousand humans',\n",
        "  {'entities': [(0, 25, 'DISEASE')]}),\n",
        " ('peripheral artery disease is a mild condition and is not very serious',\n",
        "  {'entities': [(0, 25, 'DISEASE')]}),\n",
        " ('peripheral artery disease can deplete the immune system rapidly',\n",
        "  {'entities': [(0, 25, 'DISEASE')]}),\n",
        " ('peripheral artery disease should not be treated using home remedies',\n",
        "  {'entities': [(0, 25, 'DISEASE')]}),\n",
        " ('peripheral artery disease is usually exhibited by adults',\n",
        "  {'entities': [(0, 25, 'DISEASE')]}),\n",
        " ('peripheral artery disease can ruin your retirement years',\n",
        "  {'entities': [(0, 25, 'DISEASE')]}),\n",
        " ('Researches show that peripheral artery disease is found in adult males over the age 70',\n",
        "  {'entities': [(21, 46, 'DISEASE')]}),\n",
        " ('The cost of treating peripheral artery disease in in U.S.A is much higher than anywhere in the world',\n",
        "  {'entities': [(21, 46, 'DISEASE')]}),\n",
        " ('Reports say permanent cure for peripheral artery disease has been found',\n",
        "  {'entities': [(31, 56, 'DISEASE')]}),\n",
        " ('How to cure peripheral artery disease is the question the world has been asking',\n",
        "  {'entities': [(12, 37, 'DISEASE')]}),\n",
        " ('The company that introduces the vaccine for peripheral artery disease will be the most successful organisation of the 21st century.',\n",
        "  {'entities': [(44, 69, 'DISEASE')]}),\n",
        " ('In the 21 st century, we have seen a rise in percentage of the population affected by peripheral artery disease than in previous centuries.',\n",
        "  {'entities': [(86, 111, 'DISEASE')]}),\n",
        " ('The vaccine for peripheral artery disease has adverse side effects.',\n",
        "  {'entities': [(16, 41, 'DISEASE')]}),\n",
        " ('The world is in a race to find a cure for peripheral artery disease as fast as possible',\n",
        "  {'entities': [(42, 67, 'DISEASE')]}),\n",
        " ('A new committee has been formed to research how peripheral artery disease affects the immune system',\n",
        "  {'entities': [(48, 73, 'DISEASE')]}),\n",
        " ('People are in fear that peripheral artery disease is the end of the world.',\n",
        "  {'entities': [(24, 49, 'DISEASE')]}),\n",
        " ('Mankind desperately wants a solution to peripheral artery disease to keep their hopes high.',\n",
        "  {'entities': [(40, 65, 'DISEASE')]}),\n",
        " ('Can we even think of a normal life after what peripheral artery disease has done to human race ?',\n",
        "  {'entities': [(46, 71, 'DISEASE')]}),\n",
        " ('30 percent of the total population exhibits peripheral artery disease',\n",
        "  {'entities': [(44, 69, 'DISEASE')]}),\n",
        " ('An orange a day can help in preventing peripheral artery disease',\n",
        "  {'entities': [(39, 64, 'DISEASE')]}),\n",
        " ('Every pharmaceutical company wants to find a cure for peripheral artery disease',\n",
        "  {'entities': [(54, 79, 'DISEASE')]}),\n",
        " ('What causes peripheral artery disease ?',\n",
        "  {'entities': [(12, 37, 'DISEASE')]}),\n",
        " ('Why is there a rise in number of people affected by peripheral artery disease ?',\n",
        "  {'entities': [(52, 77, 'DISEASE')]}),\n",
        " ('Is there any bigger challenge the human race has faced that is bigger than peripheral artery disease ?',\n",
        "  {'entities': [(75, 100, 'DISEASE')]}),\n",
        " ('The way we interact with people has been changed after we were affected by peripheral artery disease',\n",
        "  {'entities': [(75, 100, 'DISEASE')]}),\n",
        " ('Can the immune system of the human body fight peripheral artery disease ?',\n",
        "  {'entities': [(46, 71, 'DISEASE')]}),\n",
        " ('The state of the immunity system plays a much bigger role in fighting peripheral artery disease',\n",
        "  {'entities': [(70, 95, 'DISEASE')]}),\n",
        " ('carditis is a disease that is commonly found in humans',\n",
        "  {'entities': [(0, 8, 'DISEASE')]}),\n",
        " ('carditis can affect the health of humans devastatingly',\n",
        "  {'entities': [(0, 8, 'DISEASE')]}),\n",
        " ('carditis should be informed to the doctor straightaway',\n",
        "  {'entities': [(0, 8, 'DISEASE')]}),\n",
        " ('carditis can cause severe health problems',\n",
        "  {'entities': [(0, 8, 'DISEASE')]}),\n",
        " ('carditis is found in one out of every thousand humans',\n",
        "  {'entities': [(0, 8, 'DISEASE')]}),\n",
        " ('carditis is a mild condition and is not very serious',\n",
        "  {'entities': [(0, 8, 'DISEASE')]}),\n",
        " ('carditis can deplete the immune system rapidly',\n",
        "  {'entities': [(0, 8, 'DISEASE')]}),\n",
        " ('carditis should not be treated using home remedies',\n",
        "  {'entities': [(0, 8, 'DISEASE')]}),\n",
        " ('carditis is usually exhibited by adults',\n",
        "  {'entities': [(0, 8, 'DISEASE')]}),\n",
        " ('carditis can ruin your retirement years',\n",
        "  {'entities': [(0, 8, 'DISEASE')]}),\n",
        " ('Researches show that carditis is found in adult males over the age 70',\n",
        "  {'entities': [(21, 29, 'DISEASE')]}),\n",
        " ('The cost of treating carditis in in U.S.A is much higher than anywhere in the world',\n",
        "  {'entities': [(21, 29, 'DISEASE')]}),\n",
        " ('Reports say permanent cure for carditis has been found',\n",
        "  {'entities': [(31, 39, 'DISEASE')]}),\n",
        " ('How to cure carditis is the question the world has been asking',\n",
        "  {'entities': [(12, 20, 'DISEASE')]}),\n",
        " ('The company that introduces the vaccine for carditis will be the most successful organisation of the 21st century.',\n",
        "  {'entities': [(44, 52, 'DISEASE')]}),\n",
        " ('In the 21 st century, we have seen a rise in percentage of the population affected by carditis than in previous centuries.',\n",
        "  {'entities': [(86, 94, 'DISEASE')]}),\n",
        " ('The vaccine for carditis has adverse side effects.',\n",
        "  {'entities': [(16, 24, 'DISEASE')]}),\n",
        " ('The world is in a race to find a cure for carditis as fast as possible',\n",
        "  {'entities': [(42, 50, 'DISEASE')]}),\n",
        " ('A new committee has been formed to research how carditis affects the immune system',\n",
        "  {'entities': [(48, 56, 'DISEASE')]}),\n",
        " ('People are in fear that carditis is the end of the world.',\n",
        "  {'entities': [(24, 32, 'DISEASE')]}),\n",
        " ('Mankind desperately wants a solution to carditis to keep their hopes high.',\n",
        "  {'entities': [(40, 48, 'DISEASE')]}),\n",
        " ('Can we even think of a normal life after what carditis has done to human race ?',\n",
        "  {'entities': [(46, 54, 'DISEASE')]}),\n",
        " ('30 percent of the total population exhibits carditis',\n",
        "  {'entities': [(44, 52, 'DISEASE')]}),\n",
        " ('An orange a day can help in preventing carditis',\n",
        "  {'entities': [(39, 47, 'DISEASE')]}),\n",
        " ('Every pharmaceutical company wants to find a cure for carditis',\n",
        "  {'entities': [(54, 62, 'DISEASE')]}),\n",
        " ('What causes carditis ?', {'entities': [(12, 20, 'DISEASE')]}),\n",
        " ('Why is there a rise in number of people affected by carditis ?',\n",
        "  {'entities': [(52, 60, 'DISEASE')]}),\n",
        " ('Is there any bigger challenge the human race has faced that is bigger than carditis ?',\n",
        "  {'entities': [(75, 83, 'DISEASE')]}),\n",
        " ('The way we interact with people has been changed after we were affected by carditis',\n",
        "  {'entities': [(75, 83, 'DISEASE')]}),\n",
        " ('Can the immune system of the human body fight carditis ?',\n",
        "  {'entities': [(46, 54, 'DISEASE')]}),\n",
        " ('The state of the immunity system plays a much bigger role in fighting carditis',\n",
        "  {'entities': [(70, 78, 'DISEASE')]}),\n",
        " ('venous thrombosis is a disease that is commonly found in humans',\n",
        "  {'entities': [(0, 17, 'DISEASE')]}),\n",
        " ('venous thrombosis can affect the health of humans devastatingly',\n",
        "  {'entities': [(0, 17, 'DISEASE')]}),\n",
        " ('venous thrombosis should be informed to the doctor straightaway',\n",
        "  {'entities': [(0, 17, 'DISEASE')]}),\n",
        " ('venous thrombosis can cause severe health problems',\n",
        "  {'entities': [(0, 17, 'DISEASE')]}),\n",
        " ('venous thrombosis is found in one out of every thousand humans',\n",
        "  {'entities': [(0, 17, 'DISEASE')]}),\n",
        " ('venous thrombosis is a mild condition and is not very serious',\n",
        "  {'entities': [(0, 17, 'DISEASE')]}),\n",
        " ('venous thrombosis can deplete the immune system rapidly',\n",
        "  {'entities': [(0, 17, 'DISEASE')]}),\n",
        " ('venous thrombosis should not be treated using home remedies',\n",
        "  {'entities': [(0, 17, 'DISEASE')]}),\n",
        " ('venous thrombosis is usually exhibited by adults',\n",
        "  {'entities': [(0, 17, 'DISEASE')]}),\n",
        " ('venous thrombosis can ruin your retirement years',\n",
        "  {'entities': [(0, 17, 'DISEASE')]}),\n",
        " ('Researches show that venous thrombosis is found in adult males over the age 70',\n",
        "  {'entities': [(21, 38, 'DISEASE')]}),\n",
        " ('The cost of treating venous thrombosis in in U.S.A is much higher than anywhere in the world',\n",
        "  {'entities': [(21, 38, 'DISEASE')]}),\n",
        " ('Reports say permanent cure for venous thrombosis has been found',\n",
        "  {'entities': [(31, 48, 'DISEASE')]}),\n",
        " ('How to cure venous thrombosis is the question the world has been asking',\n",
        "  {'entities': [(12, 29, 'DISEASE')]}),\n",
        " ('The company that introduces the vaccine for venous thrombosis will be the most successful organisation of the 21st century.',\n",
        "  {'entities': [(44, 61, 'DISEASE')]}),\n",
        " ('In the 21 st century, we have seen a rise in percentage of the population affected by venous thrombosis than in previous centuries.',\n",
        "  {'entities': [(86, 103, 'DISEASE')]}),\n",
        " ('The vaccine for venous thrombosis has adverse side effects.',\n",
        "  {'entities': [(16, 33, 'DISEASE')]}),\n",
        " ('The world is in a race to find a cure for venous thrombosis as fast as possible',\n",
        "  {'entities': [(42, 59, 'DISEASE')]}),\n",
        " ('A new committee has been formed to research how venous thrombosis affects the immune system',\n",
        "  {'entities': [(48, 65, 'DISEASE')]}),\n",
        " ('People are in fear that venous thrombosis is the end of the world.',\n",
        "  {'entities': [(24, 41, 'DISEASE')]}),\n",
        " ('Mankind desperately wants a solution to venous thrombosis to keep their hopes high.',\n",
        "  {'entities': [(40, 57, 'DISEASE')]}),\n",
        " ('Can we even think of a normal life after what venous thrombosis has done to human race ?',\n",
        "  {'entities': [(46, 63, 'DISEASE')]}),\n",
        " ('30 percent of the total population exhibits venous thrombosis',\n",
        "  {'entities': [(44, 61, 'DISEASE')]}),\n",
        " ('An orange a day can help in preventing venous thrombosis',\n",
        "  {'entities': [(39, 56, 'DISEASE')]}),\n",
        " ('Every pharmaceutical company wants to find a cure for venous thrombosis',\n",
        "  {'entities': [(54, 71, 'DISEASE')]}),\n",
        " ('What causes venous thrombosis ?', {'entities': [(12, 29, 'DISEASE')]}),\n",
        " ('Why is there a rise in number of people affected by venous thrombosis ?',\n",
        "  {'entities': [(52, 69, 'DISEASE')]}),\n",
        " ('Is there any bigger challenge the human race has faced that is bigger than venous thrombosis ?',\n",
        "  {'entities': [(75, 92, 'DISEASE')]}),\n",
        " ('The way we interact with people has been changed after we were affected by venous thrombosis',\n",
        "  {'entities': [(75, 92, 'DISEASE')]}),\n",
        " ('Can the immune system of the human body fight venous thrombosis ?',\n",
        "  {'entities': [(46, 63, 'DISEASE')]}),\n",
        " ('The state of the immunity system plays a much bigger role in fighting venous thrombosis',\n",
        "  {'entities': [(70, 87, 'DISEASE')]})]"
      ],
      "execution_count": null,
      "outputs": []
    },
    {
      "cell_type": "markdown",
      "metadata": {
        "id": "kYUcPEJoG-xt"
      },
      "source": [
        "#### Function to train the spacy model"
      ]
    },
    {
      "cell_type": "code",
      "metadata": {
        "id": "Ith7mBVz5uyi"
      },
      "source": [
        "# Function to train the model\n",
        "def train_spacy(data,iterations):\n",
        "    TRAIN_DATA = data\n",
        "    nlp = spacy.blank('en')  # create blank Language class\n",
        "    # create the built-in pipeline components and add them to the pipeline\n",
        "    # nlp.create_pipe works for built-ins that are registered with spaCy\n",
        "    if 'ner' not in nlp.pipe_names:\n",
        "        ner = nlp.create_pipe('ner')\n",
        "        nlp.add_pipe(ner, last=True)\n",
        "       \n",
        "\n",
        "    # add labels\n",
        "    for _, annotations in TRAIN_DATA:\n",
        "         for ent in annotations.get('entities'):\n",
        "            ner.add_label(ent[2])\n",
        "\n",
        "    # get names of other pipes to disable them during training\n",
        "    other_pipes = [pipe for pipe in nlp.pipe_names if pipe != 'ner']\n",
        "    with nlp.disable_pipes(*other_pipes):\n",
        "        optimizer = nlp.begin_training()\n",
        "        for itn in range(iterations):\n",
        "            print(\"Starting iteration \" + str(itn + 1))\n",
        "            random.shuffle(TRAIN_DATA)\n",
        "            losses = {}\n",
        "            for text, annotations in TRAIN_DATA:\n",
        "                nlp.update(\n",
        "                    [text],\n",
        "                    [annotations],\n",
        "                    drop=0.2,\n",
        "                    sgd=optimizer,\n",
        "                    losses=losses)\n",
        "            print(losses)\n",
        "    return nlp"
      ],
      "execution_count": null,
      "outputs": []
    },
    {
      "cell_type": "markdown",
      "metadata": {
        "id": "C-SC-PW_HM74"
      },
      "source": [
        "#### Predicting with custom training data"
      ]
    },
    {
      "cell_type": "code",
      "metadata": {
        "id": "8rMBpp3t5wEW",
        "outputId": "e93b0f41-0eb6-4004-bbbe-77b358b0970d",
        "colab": {
          "base_uri": "https://localhost:8080/"
        }
      },
      "source": [
        "predict_nlp = train_spacy(TRAINING_DATA, 10)"
      ],
      "execution_count": null,
      "outputs": [
        {
          "output_type": "stream",
          "text": [
            "Starting iteration 1\n",
            "{'ner': 272.1168257099481}\n",
            "Starting iteration 2\n",
            "{'ner': 10.975517861940958}\n",
            "Starting iteration 3\n",
            "{'ner': 5.326781605966467}\n",
            "Starting iteration 4\n",
            "{'ner': 20.581068821434116}\n",
            "Starting iteration 5\n",
            "{'ner': 0.015648156584736537}\n",
            "Starting iteration 6\n",
            "{'ner': 0.00014669261459910384}\n",
            "Starting iteration 7\n",
            "{'ner': 8.055694809306809e-10}\n",
            "Starting iteration 8\n",
            "{'ner': 6.33804987149155e-08}\n",
            "Starting iteration 9\n",
            "{'ner': 1.2756411520661922e-07}\n",
            "Starting iteration 10\n",
            "{'ner': 1.7436432510989334e-09}\n"
          ],
          "name": "stdout"
        }
      ]
    },
    {
      "cell_type": "markdown",
      "metadata": {
        "id": "hiIU3udsHZ5J"
      },
      "source": [
        "#### Testing the model on real time data"
      ]
    },
    {
      "cell_type": "code",
      "metadata": {
        "id": "7uVDboV76mSU",
        "outputId": "db02b601-4b22-4754-81b8-bb3db01da570",
        "colab": {
          "base_uri": "https://localhost:8080/"
        }
      },
      "source": [
        "test_text = 'coronary artery diseases is related to stroke'\n",
        "doc = predict_nlp(test_text)\n",
        "for ent in doc.ents:\n",
        "    print(ent.text, ent.start_char, ent.end_char, ent.label_)\n",
        "displacy.render(doc, jupyter=True, style=\"ent\")"
      ],
      "execution_count": null,
      "outputs": [
        {
          "output_type": "stream",
          "text": [
            "coronary artery diseases 0 24 DISEASE\n",
            "stroke 39 45 DISEASE\n"
          ],
          "name": "stdout"
        }
      ]
    },
    {
      "cell_type": "markdown",
      "metadata": {
        "id": "_F3VQHkNL9IF"
      },
      "source": [
        "#### Define Test data"
      ]
    },
    {
      "cell_type": "code",
      "metadata": {
        "id": "gl--82zHJUsw"
      },
      "source": [
        "TEST_DATA = [('rheumatic heart disease can really affect the 2020 presidential elections',\n",
        "  {'entities': [(0, 23, 'DISEASE')]}),\n",
        " ('rheumatic heart disease might introduce a new civilization to mankind',\n",
        "  {'entities': [(0, 23, 'DISEASE')]}),\n",
        " (\"Do you think that  rheumatic heart disease is an indication of biowar between the world's superpowers ?\",\n",
        "  {'entities': [(19, 42, 'DISEASE')]}),\n",
        " ('India has the most number of rheumatic heart disease cases in the whole world',\n",
        "  {'entities': [(29, 52, 'DISEASE')]}),\n",
        " ('No other disease has ever affected the human race like rheumatic heart disease',\n",
        "  {'entities': [(55, 78, 'DISEASE')]}),\n",
        " (\"What will be the new president's coarse of action on rheumatic heart disease ?\",\n",
        "  {'entities': [(53, 76, 'DISEASE')]}),\n",
        " ('coronary artery diseases can really affect the 2020 presidential elections',\n",
        "  {'entities': [(0, 24, 'DISEASE')]}),\n",
        " ('coronary artery diseases might introduce a new civilization to mankind',\n",
        "  {'entities': [(0, 24, 'DISEASE')]}),\n",
        " (\"Do you think that  coronary artery diseases is an indication of biowar between the world's superpowers ?\",\n",
        "  {'entities': [(19, 43, 'DISEASE')]}),\n",
        " ('India has the most number of coronary artery diseases cases in the whole world',\n",
        "  {'entities': [(29, 53, 'DISEASE')]}),\n",
        " ('No other disease has ever affected the human race like coronary artery diseases',\n",
        "  {'entities': [(55, 79, 'DISEASE')]}),\n",
        " (\"What will be the new president's coarse of action on coronary artery diseases ?\",\n",
        "  {'entities': [(53, 77, 'DISEASE')]}),\n",
        " ('aortic aneurysms can really affect the 2020 presidential elections',\n",
        "  {'entities': [(0, 16, 'DISEASE')]}),\n",
        " ('aortic aneurysms might introduce a new civilization to mankind',\n",
        "  {'entities': [(0, 16, 'DISEASE')]}),\n",
        " (\"Do you think that  aortic aneurysms is an indication of biowar between the world's superpowers ?\",\n",
        "  {'entities': [(19, 35, 'DISEASE')]}),\n",
        " ('India has the most number of aortic aneurysms cases in the whole world',\n",
        "  {'entities': [(29, 45, 'DISEASE')]}),\n",
        " ('No other disease has ever affected the human race like aortic aneurysms',\n",
        "  {'entities': [(55, 71, 'DISEASE')]}),\n",
        " (\"What will be the new president's coarse of action on aortic aneurysms ?\",\n",
        "  {'entities': [(53, 69, 'DISEASE')]}),\n",
        " ('venous thrombosis can really affect the 2020 presidential elections',\n",
        "  {'entities': [(0, 17, 'DISEASE')]}),\n",
        " ('venous thrombosis might introduce a new civilization to mankind',\n",
        "  {'entities': [(0, 17, 'DISEASE')]}),\n",
        " (\"Do you think that  venous thrombosis is an indication of biowar between the world's superpowers ?\",\n",
        "  {'entities': [(19, 36, 'DISEASE')]}),\n",
        " ('India has the most number of venous thrombosis cases in the whole world',\n",
        "  {'entities': [(29, 46, 'DISEASE')]}),\n",
        " ('No other disease has ever affected the human race like venous thrombosis',\n",
        "  {'entities': [(55, 72, 'DISEASE')]}),\n",
        " (\"What will be the new president's coarse of action on venous thrombosis ?\",\n",
        "  {'entities': [(53, 70, 'DISEASE')]}),\n",
        " ('congenital heart disease can really affect the 2020 presidential elections',\n",
        "  {'entities': [(0, 24, 'DISEASE')]}),\n",
        " ('congenital heart disease might introduce a new civilization to mankind',\n",
        "  {'entities': [(0, 24, 'DISEASE')]}),\n",
        " (\"Do you think that  congenital heart disease is an indication of biowar between the world's superpowers ?\",\n",
        "  {'entities': [(19, 43, 'DISEASE')]}),\n",
        " ('India has the most number of congenital heart disease cases in the whole world',\n",
        "  {'entities': [(29, 53, 'DISEASE')]}),\n",
        " ('No other disease has ever affected the human race like congenital heart disease',\n",
        "  {'entities': [(55, 79, 'DISEASE')]}),\n",
        " (\"What will be the new president's coarse of action on congenital heart disease ?\",\n",
        "  {'entities': [(53, 77, 'DISEASE')]}),\n",
        " ('hypertensive heart disease can really affect the 2020 presidential elections',\n",
        "  {'entities': [(0, 26, 'DISEASE')]}),\n",
        " ('hypertensive heart disease might introduce a new civilization to mankind',\n",
        "  {'entities': [(0, 26, 'DISEASE')]}),\n",
        " (\"Do you think that  hypertensive heart disease is an indication of biowar between the world's superpowers ?\",\n",
        "  {'entities': [(19, 45, 'DISEASE')]}),\n",
        " ('India has the most number of hypertensive heart disease cases in the whole world',\n",
        "  {'entities': [(29, 55, 'DISEASE')]}),\n",
        " ('No other disease has ever affected the human race like hypertensive heart disease',\n",
        "  {'entities': [(55, 81, 'DISEASE')]}),\n",
        " (\"What will be the new president's coarse of action on hypertensive heart disease ?\",\n",
        "  {'entities': [(53, 79, 'DISEASE')]}),\n",
        " ('thromboembolic disease can really affect the 2020 presidential elections',\n",
        "  {'entities': [(0, 22, 'DISEASE')]}),\n",
        " ('thromboembolic disease might introduce a new civilization to mankind',\n",
        "  {'entities': [(0, 22, 'DISEASE')]}),\n",
        " (\"Do you think that  thromboembolic disease is an indication of biowar between the world's superpowers ?\",\n",
        "  {'entities': [(19, 41, 'DISEASE')]}),\n",
        " ('India has the most number of thromboembolic disease cases in the whole world',\n",
        "  {'entities': [(29, 51, 'DISEASE')]}),\n",
        " ('No other disease has ever affected the human race like thromboembolic disease',\n",
        "  {'entities': [(55, 77, 'DISEASE')]}),\n",
        " (\"What will be the new president's coarse of action on thromboembolic disease ?\",\n",
        "  {'entities': [(53, 75, 'DISEASE')]}),\n",
        " ('peripheral artery disease can really affect the 2020 presidential elections',\n",
        "  {'entities': [(0, 25, 'DISEASE')]}),\n",
        " ('peripheral artery disease might introduce a new civilization to mankind',\n",
        "  {'entities': [(0, 25, 'DISEASE')]}),\n",
        " (\"Do you think that  peripheral artery disease is an indication of biowar between the world's superpowers ?\",\n",
        "  {'entities': [(19, 44, 'DISEASE')]}),\n",
        " ('India has the most number of peripheral artery disease cases in the whole world',\n",
        "  {'entities': [(29, 54, 'DISEASE')]}),\n",
        " ('No other disease has ever affected the human race like peripheral artery disease',\n",
        "  {'entities': [(55, 80, 'DISEASE')]}),\n",
        " (\"What will be the new president's coarse of action on peripheral artery disease ?\",\n",
        "  {'entities': [(53, 78, 'DISEASE')]}),\n",
        " ('carditis can really affect the 2020 presidential elections',\n",
        "  {'entities': [(0, 8, 'DISEASE')]}),\n",
        " ('carditis might introduce a new civilization to mankind',\n",
        "  {'entities': [(0, 8, 'DISEASE')]}),\n",
        " (\"Do you think that  carditis is an indication of biowar between the world's superpowers ?\",\n",
        "  {'entities': [(19, 27, 'DISEASE')]}),\n",
        " ('India has the most number of carditis cases in the whole world',\n",
        "  {'entities': [(29, 37, 'DISEASE')]}),\n",
        " ('No other disease has ever affected the human race like carditis',\n",
        "  {'entities': [(55, 63, 'DISEASE')]}),\n",
        " (\"What will be the new president's coarse of action on carditis ?\",\n",
        "  {'entities': [(53, 61, 'DISEASE')]}),\n",
        " ('heart failure can really affect the 2020 presidential elections',\n",
        "  {'entities': [(0, 13, 'DISEASE')]}),\n",
        " ('heart failure might introduce a new civilization to mankind',\n",
        "  {'entities': [(0, 13, 'DISEASE')]}),\n",
        " (\"Do you think that  heart failure is an indication of biowar between the world's superpowers ?\",\n",
        "  {'entities': [(19, 32, 'DISEASE')]}),\n",
        " ('India has the most number of heart failure cases in the whole world',\n",
        "  {'entities': [(29, 42, 'DISEASE')]}),\n",
        " ('No other disease has ever affected the human race like heart failure',\n",
        "  {'entities': [(55, 68, 'DISEASE')]}),\n",
        " (\"What will be the new president's coarse of action on heart failure ?\",\n",
        "  {'entities': [(53, 66, 'DISEASE')]}),\n",
        " ('myocardial infarction can really affect the 2020 presidential elections',\n",
        "  {'entities': [(0, 21, 'DISEASE')]}),\n",
        " ('myocardial infarction might introduce a new civilization to mankind',\n",
        "  {'entities': [(0, 21, 'DISEASE')]}),\n",
        " (\"Do you think that  myocardial infarction is an indication of biowar between the world's superpowers ?\",\n",
        "  {'entities': [(19, 40, 'DISEASE')]}),\n",
        " ('India has the most number of myocardial infarction cases in the whole world',\n",
        "  {'entities': [(29, 50, 'DISEASE')]}),\n",
        " ('No other disease has ever affected the human race like myocardial infarction',\n",
        "  {'entities': [(55, 76, 'DISEASE')]}),\n",
        " (\"What will be the new president's coarse of action on myocardial infarction ?\",\n",
        "  {'entities': [(53, 74, 'DISEASE')]}),\n",
        " ('valvular heart disease can really affect the 2020 presidential elections',\n",
        "  {'entities': [(0, 22, 'DISEASE')]}),\n",
        " ('valvular heart disease might introduce a new civilization to mankind',\n",
        "  {'entities': [(0, 22, 'DISEASE')]}),\n",
        " (\"Do you think that  valvular heart disease is an indication of biowar between the world's superpowers ?\",\n",
        "  {'entities': [(19, 41, 'DISEASE')]}),\n",
        " ('India has the most number of valvular heart disease cases in the whole world',\n",
        "  {'entities': [(29, 51, 'DISEASE')]}),\n",
        " ('No other disease has ever affected the human race like valvular heart disease',\n",
        "  {'entities': [(55, 77, 'DISEASE')]}),\n",
        " (\"What will be the new president's coarse of action on valvular heart disease ?\",\n",
        "  {'entities': [(53, 75, 'DISEASE')]}),\n",
        " ('cardiomyopathy can really affect the 2020 presidential elections',\n",
        "  {'entities': [(0, 14, 'DISEASE')]}),\n",
        " ('cardiomyopathy might introduce a new civilization to mankind',\n",
        "  {'entities': [(0, 14, 'DISEASE')]}),\n",
        " (\"Do you think that  cardiomyopathy is an indication of biowar between the world's superpowers ?\",\n",
        "  {'entities': [(19, 33, 'DISEASE')]}),\n",
        " ('India has the most number of cardiomyopathy cases in the whole world',\n",
        "  {'entities': [(29, 43, 'DISEASE')]}),\n",
        " ('No other disease has ever affected the human race like cardiomyopathy',\n",
        "  {'entities': [(55, 69, 'DISEASE')]}),\n",
        " (\"What will be the new president's coarse of action on cardiomyopathy ?\",\n",
        "  {'entities': [(53, 67, 'DISEASE')]}),\n",
        " ('abnormal heart rhythms can really affect the 2020 presidential elections',\n",
        "  {'entities': [(0, 22, 'DISEASE')]}),\n",
        " ('abnormal heart rhythms might introduce a new civilization to mankind',\n",
        "  {'entities': [(0, 22, 'DISEASE')]}),\n",
        " (\"Do you think that  abnormal heart rhythms is an indication of biowar between the world's superpowers ?\",\n",
        "  {'entities': [(19, 41, 'DISEASE')]}),\n",
        " ('India has the most number of abnormal heart rhythms cases in the whole world',\n",
        "  {'entities': [(29, 51, 'DISEASE')]}),\n",
        " ('No other disease has ever affected the human race like abnormal heart rhythms',\n",
        "  {'entities': [(55, 77, 'DISEASE')]}),\n",
        " (\"What will be the new president's coarse of action on abnormal heart rhythms ?\",\n",
        "  {'entities': [(53, 75, 'DISEASE')]}),\n",
        " ('stroke can really affect the 2020 presidential elections',\n",
        "  {'entities': [(0, 6, 'DISEASE')]}),\n",
        " ('stroke might introduce a new civilization to mankind',\n",
        "  {'entities': [(0, 6, 'DISEASE')]}),\n",
        " (\"Do you think that  stroke is an indication of biowar between the world's superpowers ?\",\n",
        "  {'entities': [(19, 25, 'DISEASE')]}),\n",
        " ('India has the most number of stroke cases in the whole world',\n",
        "  {'entities': [(29, 35, 'DISEASE')]}),\n",
        " ('No other disease has ever affected the human race like stroke',\n",
        "  {'entities': [(55, 61, 'DISEASE')]}),\n",
        " (\"What will be the new president's coarse of action on stroke ?\",\n",
        "  {'entities': [(53, 59, 'DISEASE')]})]"
      ],
      "execution_count": null,
      "outputs": []
    },
    {
      "cell_type": "code",
      "metadata": {
        "id": "wLwzw2J6NQQA",
        "outputId": "703665e4-7dfb-4b35-fd3a-86ed643e5f40",
        "colab": {
          "base_uri": "https://localhost:8080/"
        }
      },
      "source": [
        "len(TEST_DATA)"
      ],
      "execution_count": null,
      "outputs": [
        {
          "output_type": "execute_result",
          "data": {
            "text/plain": [
              "90"
            ]
          },
          "metadata": {
            "tags": []
          },
          "execution_count": 24
        }
      ]
    },
    {
      "cell_type": "markdown",
      "metadata": {
        "id": "dFzAz3GEL2Zy"
      },
      "source": [
        "#### Evaluating accuracy of the model"
      ]
    },
    {
      "cell_type": "code",
      "metadata": {
        "id": "Jx3BHT1IJUip"
      },
      "source": [
        "def calculate_accuracy(TEST):\n",
        "  total = len(TEST)\n",
        "  true = 0\n",
        "  false = 0\n",
        "\n",
        "  for test_data in TEST:\n",
        "    doc = predict_nlp(test_data[0])\n",
        "    for ent in doc.ents:\n",
        "      if ent.label_ == test_data[1]['entities'][0][2] and \\\n",
        "        ent.start_char == test_data[1]['entities'][0][0] and \\\n",
        "        ent.end_char == test_data[1]['entities'][0][1]:\n",
        "              true = true + 1\n",
        "      else:\n",
        "        false = false +1\n",
        "        print(test_data[0])\n",
        "        print(\"prediction: \" + ent.text + ' ' + ent.label_ + ' ' + str(ent.start_char) + ' ' + str(ent.end_char))\n",
        "        print('Correct: ', test_data[0][test_data[1]['entities'][0][0]:test_data[1]['entities'][0][1]] + ' ' + test_data[1]['entities'][0][2], ' ', test_data[1]['entities'][0][0], test_data[1]['entities'][0][1])\n",
        "      displacy.render(doc, jupyter=True, style=\"ent\")\n",
        "  accuracy = true / total\n",
        "  print(\"\\n\\nAccuracy= \" + str(accuracy * 100) + \" %\")"
      ],
      "execution_count": null,
      "outputs": []
    },
    {
      "cell_type": "code",
      "metadata": {
        "id": "xNAyersqNGcY",
        "outputId": "55dd474e-ab1a-44bd-cbb1-4c4b2e63935f",
        "colab": {
          "base_uri": "https://localhost:8080/",
          "height": 1000
        }
      },
      "source": [
        "calculate_accuracy(TEST_DATA)"
      ],
      "execution_count": null,
      "outputs": [
        {
          "output_type": "display_data",
          "data": {
            "text/html": [
              "<span class=\"tex2jax_ignore\"><div class=\"entities\" style=\"line-height: 2.5; direction: ltr\">\n",
              "<mark class=\"entity\" style=\"background: #ddd; padding: 0.45em 0.6em; margin: 0 0.25em; line-height: 1; border-radius: 0.35em;\">\n",
              "    rheumatic heart disease\n",
              "    <span style=\"font-size: 0.8em; font-weight: bold; line-height: 1; border-radius: 0.35em; text-transform: uppercase; vertical-align: middle; margin-left: 0.5rem\">DISEASE</span>\n",
              "</mark>\n",
              " can really affect the 2020 presidential elections</div></span>"
            ],
            "text/plain": [
              "<IPython.core.display.HTML object>"
            ]
          },
          "metadata": {
            "tags": []
          }
        },
        {
          "output_type": "display_data",
          "data": {
            "text/html": [
              "<span class=\"tex2jax_ignore\"><div class=\"entities\" style=\"line-height: 2.5; direction: ltr\">\n",
              "<mark class=\"entity\" style=\"background: #ddd; padding: 0.45em 0.6em; margin: 0 0.25em; line-height: 1; border-radius: 0.35em;\">\n",
              "    rheumatic heart disease\n",
              "    <span style=\"font-size: 0.8em; font-weight: bold; line-height: 1; border-radius: 0.35em; text-transform: uppercase; vertical-align: middle; margin-left: 0.5rem\">DISEASE</span>\n",
              "</mark>\n",
              " might introduce a new civilization to mankind</div></span>"
            ],
            "text/plain": [
              "<IPython.core.display.HTML object>"
            ]
          },
          "metadata": {
            "tags": []
          }
        },
        {
          "output_type": "display_data",
          "data": {
            "text/html": [
              "<span class=\"tex2jax_ignore\"><div class=\"entities\" style=\"line-height: 2.5; direction: ltr\">Do you think that  \n",
              "<mark class=\"entity\" style=\"background: #ddd; padding: 0.45em 0.6em; margin: 0 0.25em; line-height: 1; border-radius: 0.35em;\">\n",
              "    rheumatic heart disease\n",
              "    <span style=\"font-size: 0.8em; font-weight: bold; line-height: 1; border-radius: 0.35em; text-transform: uppercase; vertical-align: middle; margin-left: 0.5rem\">DISEASE</span>\n",
              "</mark>\n",
              " is an indication of biowar between the world's superpowers ?</div></span>"
            ],
            "text/plain": [
              "<IPython.core.display.HTML object>"
            ]
          },
          "metadata": {
            "tags": []
          }
        },
        {
          "output_type": "display_data",
          "data": {
            "text/html": [
              "<span class=\"tex2jax_ignore\"><div class=\"entities\" style=\"line-height: 2.5; direction: ltr\">India has the most number of \n",
              "<mark class=\"entity\" style=\"background: #ddd; padding: 0.45em 0.6em; margin: 0 0.25em; line-height: 1; border-radius: 0.35em;\">\n",
              "    rheumatic heart disease\n",
              "    <span style=\"font-size: 0.8em; font-weight: bold; line-height: 1; border-radius: 0.35em; text-transform: uppercase; vertical-align: middle; margin-left: 0.5rem\">DISEASE</span>\n",
              "</mark>\n",
              " cases in the whole world</div></span>"
            ],
            "text/plain": [
              "<IPython.core.display.HTML object>"
            ]
          },
          "metadata": {
            "tags": []
          }
        },
        {
          "output_type": "display_data",
          "data": {
            "text/html": [
              "<span class=\"tex2jax_ignore\"><div class=\"entities\" style=\"line-height: 2.5; direction: ltr\">No other disease has ever affected the human race like \n",
              "<mark class=\"entity\" style=\"background: #ddd; padding: 0.45em 0.6em; margin: 0 0.25em; line-height: 1; border-radius: 0.35em;\">\n",
              "    rheumatic heart disease\n",
              "    <span style=\"font-size: 0.8em; font-weight: bold; line-height: 1; border-radius: 0.35em; text-transform: uppercase; vertical-align: middle; margin-left: 0.5rem\">DISEASE</span>\n",
              "</mark>\n",
              "</div></span>"
            ],
            "text/plain": [
              "<IPython.core.display.HTML object>"
            ]
          },
          "metadata": {
            "tags": []
          }
        },
        {
          "output_type": "display_data",
          "data": {
            "text/html": [
              "<span class=\"tex2jax_ignore\"><div class=\"entities\" style=\"line-height: 2.5; direction: ltr\">What will be the new president's coarse of action on \n",
              "<mark class=\"entity\" style=\"background: #ddd; padding: 0.45em 0.6em; margin: 0 0.25em; line-height: 1; border-radius: 0.35em;\">\n",
              "    rheumatic heart disease\n",
              "    <span style=\"font-size: 0.8em; font-weight: bold; line-height: 1; border-radius: 0.35em; text-transform: uppercase; vertical-align: middle; margin-left: 0.5rem\">DISEASE</span>\n",
              "</mark>\n",
              " ?</div></span>"
            ],
            "text/plain": [
              "<IPython.core.display.HTML object>"
            ]
          },
          "metadata": {
            "tags": []
          }
        },
        {
          "output_type": "display_data",
          "data": {
            "text/html": [
              "<span class=\"tex2jax_ignore\"><div class=\"entities\" style=\"line-height: 2.5; direction: ltr\">\n",
              "<mark class=\"entity\" style=\"background: #ddd; padding: 0.45em 0.6em; margin: 0 0.25em; line-height: 1; border-radius: 0.35em;\">\n",
              "    coronary artery diseases\n",
              "    <span style=\"font-size: 0.8em; font-weight: bold; line-height: 1; border-radius: 0.35em; text-transform: uppercase; vertical-align: middle; margin-left: 0.5rem\">DISEASE</span>\n",
              "</mark>\n",
              " can really affect the 2020 presidential elections</div></span>"
            ],
            "text/plain": [
              "<IPython.core.display.HTML object>"
            ]
          },
          "metadata": {
            "tags": []
          }
        },
        {
          "output_type": "display_data",
          "data": {
            "text/html": [
              "<span class=\"tex2jax_ignore\"><div class=\"entities\" style=\"line-height: 2.5; direction: ltr\">\n",
              "<mark class=\"entity\" style=\"background: #ddd; padding: 0.45em 0.6em; margin: 0 0.25em; line-height: 1; border-radius: 0.35em;\">\n",
              "    coronary artery diseases\n",
              "    <span style=\"font-size: 0.8em; font-weight: bold; line-height: 1; border-radius: 0.35em; text-transform: uppercase; vertical-align: middle; margin-left: 0.5rem\">DISEASE</span>\n",
              "</mark>\n",
              " might introduce a new civilization to mankind</div></span>"
            ],
            "text/plain": [
              "<IPython.core.display.HTML object>"
            ]
          },
          "metadata": {
            "tags": []
          }
        },
        {
          "output_type": "display_data",
          "data": {
            "text/html": [
              "<span class=\"tex2jax_ignore\"><div class=\"entities\" style=\"line-height: 2.5; direction: ltr\">Do you think that  \n",
              "<mark class=\"entity\" style=\"background: #ddd; padding: 0.45em 0.6em; margin: 0 0.25em; line-height: 1; border-radius: 0.35em;\">\n",
              "    coronary artery diseases\n",
              "    <span style=\"font-size: 0.8em; font-weight: bold; line-height: 1; border-radius: 0.35em; text-transform: uppercase; vertical-align: middle; margin-left: 0.5rem\">DISEASE</span>\n",
              "</mark>\n",
              " is an indication of biowar between the world's superpowers ?</div></span>"
            ],
            "text/plain": [
              "<IPython.core.display.HTML object>"
            ]
          },
          "metadata": {
            "tags": []
          }
        },
        {
          "output_type": "display_data",
          "data": {
            "text/html": [
              "<span class=\"tex2jax_ignore\"><div class=\"entities\" style=\"line-height: 2.5; direction: ltr\">India has the most number of \n",
              "<mark class=\"entity\" style=\"background: #ddd; padding: 0.45em 0.6em; margin: 0 0.25em; line-height: 1; border-radius: 0.35em;\">\n",
              "    coronary artery diseases\n",
              "    <span style=\"font-size: 0.8em; font-weight: bold; line-height: 1; border-radius: 0.35em; text-transform: uppercase; vertical-align: middle; margin-left: 0.5rem\">DISEASE</span>\n",
              "</mark>\n",
              " cases in the whole world</div></span>"
            ],
            "text/plain": [
              "<IPython.core.display.HTML object>"
            ]
          },
          "metadata": {
            "tags": []
          }
        },
        {
          "output_type": "display_data",
          "data": {
            "text/html": [
              "<span class=\"tex2jax_ignore\"><div class=\"entities\" style=\"line-height: 2.5; direction: ltr\">No other disease has ever affected the human race like \n",
              "<mark class=\"entity\" style=\"background: #ddd; padding: 0.45em 0.6em; margin: 0 0.25em; line-height: 1; border-radius: 0.35em;\">\n",
              "    coronary artery diseases\n",
              "    <span style=\"font-size: 0.8em; font-weight: bold; line-height: 1; border-radius: 0.35em; text-transform: uppercase; vertical-align: middle; margin-left: 0.5rem\">DISEASE</span>\n",
              "</mark>\n",
              "</div></span>"
            ],
            "text/plain": [
              "<IPython.core.display.HTML object>"
            ]
          },
          "metadata": {
            "tags": []
          }
        },
        {
          "output_type": "display_data",
          "data": {
            "text/html": [
              "<span class=\"tex2jax_ignore\"><div class=\"entities\" style=\"line-height: 2.5; direction: ltr\">What will be the new president's coarse of action on \n",
              "<mark class=\"entity\" style=\"background: #ddd; padding: 0.45em 0.6em; margin: 0 0.25em; line-height: 1; border-radius: 0.35em;\">\n",
              "    coronary artery diseases\n",
              "    <span style=\"font-size: 0.8em; font-weight: bold; line-height: 1; border-radius: 0.35em; text-transform: uppercase; vertical-align: middle; margin-left: 0.5rem\">DISEASE</span>\n",
              "</mark>\n",
              " ?</div></span>"
            ],
            "text/plain": [
              "<IPython.core.display.HTML object>"
            ]
          },
          "metadata": {
            "tags": []
          }
        },
        {
          "output_type": "display_data",
          "data": {
            "text/html": [
              "<span class=\"tex2jax_ignore\"><div class=\"entities\" style=\"line-height: 2.5; direction: ltr\">\n",
              "<mark class=\"entity\" style=\"background: #ddd; padding: 0.45em 0.6em; margin: 0 0.25em; line-height: 1; border-radius: 0.35em;\">\n",
              "    aortic aneurysms\n",
              "    <span style=\"font-size: 0.8em; font-weight: bold; line-height: 1; border-radius: 0.35em; text-transform: uppercase; vertical-align: middle; margin-left: 0.5rem\">DISEASE</span>\n",
              "</mark>\n",
              " can really affect the 2020 presidential elections</div></span>"
            ],
            "text/plain": [
              "<IPython.core.display.HTML object>"
            ]
          },
          "metadata": {
            "tags": []
          }
        },
        {
          "output_type": "display_data",
          "data": {
            "text/html": [
              "<span class=\"tex2jax_ignore\"><div class=\"entities\" style=\"line-height: 2.5; direction: ltr\">\n",
              "<mark class=\"entity\" style=\"background: #ddd; padding: 0.45em 0.6em; margin: 0 0.25em; line-height: 1; border-radius: 0.35em;\">\n",
              "    aortic aneurysms\n",
              "    <span style=\"font-size: 0.8em; font-weight: bold; line-height: 1; border-radius: 0.35em; text-transform: uppercase; vertical-align: middle; margin-left: 0.5rem\">DISEASE</span>\n",
              "</mark>\n",
              " might introduce a new civilization to mankind</div></span>"
            ],
            "text/plain": [
              "<IPython.core.display.HTML object>"
            ]
          },
          "metadata": {
            "tags": []
          }
        },
        {
          "output_type": "display_data",
          "data": {
            "text/html": [
              "<span class=\"tex2jax_ignore\"><div class=\"entities\" style=\"line-height: 2.5; direction: ltr\">Do you think that  \n",
              "<mark class=\"entity\" style=\"background: #ddd; padding: 0.45em 0.6em; margin: 0 0.25em; line-height: 1; border-radius: 0.35em;\">\n",
              "    aortic aneurysms\n",
              "    <span style=\"font-size: 0.8em; font-weight: bold; line-height: 1; border-radius: 0.35em; text-transform: uppercase; vertical-align: middle; margin-left: 0.5rem\">DISEASE</span>\n",
              "</mark>\n",
              " is an indication of biowar between the world's superpowers ?</div></span>"
            ],
            "text/plain": [
              "<IPython.core.display.HTML object>"
            ]
          },
          "metadata": {
            "tags": []
          }
        },
        {
          "output_type": "display_data",
          "data": {
            "text/html": [
              "<span class=\"tex2jax_ignore\"><div class=\"entities\" style=\"line-height: 2.5; direction: ltr\">India has the most number of \n",
              "<mark class=\"entity\" style=\"background: #ddd; padding: 0.45em 0.6em; margin: 0 0.25em; line-height: 1; border-radius: 0.35em;\">\n",
              "    aortic aneurysms\n",
              "    <span style=\"font-size: 0.8em; font-weight: bold; line-height: 1; border-radius: 0.35em; text-transform: uppercase; vertical-align: middle; margin-left: 0.5rem\">DISEASE</span>\n",
              "</mark>\n",
              " cases in the whole world</div></span>"
            ],
            "text/plain": [
              "<IPython.core.display.HTML object>"
            ]
          },
          "metadata": {
            "tags": []
          }
        },
        {
          "output_type": "display_data",
          "data": {
            "text/html": [
              "<span class=\"tex2jax_ignore\"><div class=\"entities\" style=\"line-height: 2.5; direction: ltr\">No other disease has ever affected the human race like \n",
              "<mark class=\"entity\" style=\"background: #ddd; padding: 0.45em 0.6em; margin: 0 0.25em; line-height: 1; border-radius: 0.35em;\">\n",
              "    aortic aneurysms\n",
              "    <span style=\"font-size: 0.8em; font-weight: bold; line-height: 1; border-radius: 0.35em; text-transform: uppercase; vertical-align: middle; margin-left: 0.5rem\">DISEASE</span>\n",
              "</mark>\n",
              "</div></span>"
            ],
            "text/plain": [
              "<IPython.core.display.HTML object>"
            ]
          },
          "metadata": {
            "tags": []
          }
        },
        {
          "output_type": "display_data",
          "data": {
            "text/html": [
              "<span class=\"tex2jax_ignore\"><div class=\"entities\" style=\"line-height: 2.5; direction: ltr\">What will be the new president's coarse of action on \n",
              "<mark class=\"entity\" style=\"background: #ddd; padding: 0.45em 0.6em; margin: 0 0.25em; line-height: 1; border-radius: 0.35em;\">\n",
              "    aortic aneurysms\n",
              "    <span style=\"font-size: 0.8em; font-weight: bold; line-height: 1; border-radius: 0.35em; text-transform: uppercase; vertical-align: middle; margin-left: 0.5rem\">DISEASE</span>\n",
              "</mark>\n",
              " ?</div></span>"
            ],
            "text/plain": [
              "<IPython.core.display.HTML object>"
            ]
          },
          "metadata": {
            "tags": []
          }
        },
        {
          "output_type": "display_data",
          "data": {
            "text/html": [
              "<span class=\"tex2jax_ignore\"><div class=\"entities\" style=\"line-height: 2.5; direction: ltr\">\n",
              "<mark class=\"entity\" style=\"background: #ddd; padding: 0.45em 0.6em; margin: 0 0.25em; line-height: 1; border-radius: 0.35em;\">\n",
              "    venous thrombosis\n",
              "    <span style=\"font-size: 0.8em; font-weight: bold; line-height: 1; border-radius: 0.35em; text-transform: uppercase; vertical-align: middle; margin-left: 0.5rem\">DISEASE</span>\n",
              "</mark>\n",
              " can really affect the 2020 presidential elections</div></span>"
            ],
            "text/plain": [
              "<IPython.core.display.HTML object>"
            ]
          },
          "metadata": {
            "tags": []
          }
        },
        {
          "output_type": "display_data",
          "data": {
            "text/html": [
              "<span class=\"tex2jax_ignore\"><div class=\"entities\" style=\"line-height: 2.5; direction: ltr\">\n",
              "<mark class=\"entity\" style=\"background: #ddd; padding: 0.45em 0.6em; margin: 0 0.25em; line-height: 1; border-radius: 0.35em;\">\n",
              "    venous thrombosis\n",
              "    <span style=\"font-size: 0.8em; font-weight: bold; line-height: 1; border-radius: 0.35em; text-transform: uppercase; vertical-align: middle; margin-left: 0.5rem\">DISEASE</span>\n",
              "</mark>\n",
              " might introduce a new civilization to mankind</div></span>"
            ],
            "text/plain": [
              "<IPython.core.display.HTML object>"
            ]
          },
          "metadata": {
            "tags": []
          }
        },
        {
          "output_type": "display_data",
          "data": {
            "text/html": [
              "<span class=\"tex2jax_ignore\"><div class=\"entities\" style=\"line-height: 2.5; direction: ltr\">Do you think that  \n",
              "<mark class=\"entity\" style=\"background: #ddd; padding: 0.45em 0.6em; margin: 0 0.25em; line-height: 1; border-radius: 0.35em;\">\n",
              "    venous thrombosis\n",
              "    <span style=\"font-size: 0.8em; font-weight: bold; line-height: 1; border-radius: 0.35em; text-transform: uppercase; vertical-align: middle; margin-left: 0.5rem\">DISEASE</span>\n",
              "</mark>\n",
              " is an indication of biowar between the world's superpowers ?</div></span>"
            ],
            "text/plain": [
              "<IPython.core.display.HTML object>"
            ]
          },
          "metadata": {
            "tags": []
          }
        },
        {
          "output_type": "display_data",
          "data": {
            "text/html": [
              "<span class=\"tex2jax_ignore\"><div class=\"entities\" style=\"line-height: 2.5; direction: ltr\">India has the most number of \n",
              "<mark class=\"entity\" style=\"background: #ddd; padding: 0.45em 0.6em; margin: 0 0.25em; line-height: 1; border-radius: 0.35em;\">\n",
              "    venous thrombosis\n",
              "    <span style=\"font-size: 0.8em; font-weight: bold; line-height: 1; border-radius: 0.35em; text-transform: uppercase; vertical-align: middle; margin-left: 0.5rem\">DISEASE</span>\n",
              "</mark>\n",
              " cases in the whole world</div></span>"
            ],
            "text/plain": [
              "<IPython.core.display.HTML object>"
            ]
          },
          "metadata": {
            "tags": []
          }
        },
        {
          "output_type": "display_data",
          "data": {
            "text/html": [
              "<span class=\"tex2jax_ignore\"><div class=\"entities\" style=\"line-height: 2.5; direction: ltr\">No other disease has ever affected the human race like \n",
              "<mark class=\"entity\" style=\"background: #ddd; padding: 0.45em 0.6em; margin: 0 0.25em; line-height: 1; border-radius: 0.35em;\">\n",
              "    venous thrombosis\n",
              "    <span style=\"font-size: 0.8em; font-weight: bold; line-height: 1; border-radius: 0.35em; text-transform: uppercase; vertical-align: middle; margin-left: 0.5rem\">DISEASE</span>\n",
              "</mark>\n",
              "</div></span>"
            ],
            "text/plain": [
              "<IPython.core.display.HTML object>"
            ]
          },
          "metadata": {
            "tags": []
          }
        },
        {
          "output_type": "display_data",
          "data": {
            "text/html": [
              "<span class=\"tex2jax_ignore\"><div class=\"entities\" style=\"line-height: 2.5; direction: ltr\">What will be the new president's coarse of action on \n",
              "<mark class=\"entity\" style=\"background: #ddd; padding: 0.45em 0.6em; margin: 0 0.25em; line-height: 1; border-radius: 0.35em;\">\n",
              "    venous thrombosis\n",
              "    <span style=\"font-size: 0.8em; font-weight: bold; line-height: 1; border-radius: 0.35em; text-transform: uppercase; vertical-align: middle; margin-left: 0.5rem\">DISEASE</span>\n",
              "</mark>\n",
              " ?</div></span>"
            ],
            "text/plain": [
              "<IPython.core.display.HTML object>"
            ]
          },
          "metadata": {
            "tags": []
          }
        },
        {
          "output_type": "display_data",
          "data": {
            "text/html": [
              "<span class=\"tex2jax_ignore\"><div class=\"entities\" style=\"line-height: 2.5; direction: ltr\">\n",
              "<mark class=\"entity\" style=\"background: #ddd; padding: 0.45em 0.6em; margin: 0 0.25em; line-height: 1; border-radius: 0.35em;\">\n",
              "    congenital heart disease\n",
              "    <span style=\"font-size: 0.8em; font-weight: bold; line-height: 1; border-radius: 0.35em; text-transform: uppercase; vertical-align: middle; margin-left: 0.5rem\">DISEASE</span>\n",
              "</mark>\n",
              " can really affect the 2020 presidential elections</div></span>"
            ],
            "text/plain": [
              "<IPython.core.display.HTML object>"
            ]
          },
          "metadata": {
            "tags": []
          }
        },
        {
          "output_type": "display_data",
          "data": {
            "text/html": [
              "<span class=\"tex2jax_ignore\"><div class=\"entities\" style=\"line-height: 2.5; direction: ltr\">\n",
              "<mark class=\"entity\" style=\"background: #ddd; padding: 0.45em 0.6em; margin: 0 0.25em; line-height: 1; border-radius: 0.35em;\">\n",
              "    congenital heart disease\n",
              "    <span style=\"font-size: 0.8em; font-weight: bold; line-height: 1; border-radius: 0.35em; text-transform: uppercase; vertical-align: middle; margin-left: 0.5rem\">DISEASE</span>\n",
              "</mark>\n",
              " might introduce a new civilization to mankind</div></span>"
            ],
            "text/plain": [
              "<IPython.core.display.HTML object>"
            ]
          },
          "metadata": {
            "tags": []
          }
        },
        {
          "output_type": "display_data",
          "data": {
            "text/html": [
              "<span class=\"tex2jax_ignore\"><div class=\"entities\" style=\"line-height: 2.5; direction: ltr\">Do you think that  \n",
              "<mark class=\"entity\" style=\"background: #ddd; padding: 0.45em 0.6em; margin: 0 0.25em; line-height: 1; border-radius: 0.35em;\">\n",
              "    congenital heart disease\n",
              "    <span style=\"font-size: 0.8em; font-weight: bold; line-height: 1; border-radius: 0.35em; text-transform: uppercase; vertical-align: middle; margin-left: 0.5rem\">DISEASE</span>\n",
              "</mark>\n",
              " is an indication of biowar between the world's superpowers ?</div></span>"
            ],
            "text/plain": [
              "<IPython.core.display.HTML object>"
            ]
          },
          "metadata": {
            "tags": []
          }
        },
        {
          "output_type": "display_data",
          "data": {
            "text/html": [
              "<span class=\"tex2jax_ignore\"><div class=\"entities\" style=\"line-height: 2.5; direction: ltr\">India has the most number of \n",
              "<mark class=\"entity\" style=\"background: #ddd; padding: 0.45em 0.6em; margin: 0 0.25em; line-height: 1; border-radius: 0.35em;\">\n",
              "    congenital heart disease\n",
              "    <span style=\"font-size: 0.8em; font-weight: bold; line-height: 1; border-radius: 0.35em; text-transform: uppercase; vertical-align: middle; margin-left: 0.5rem\">DISEASE</span>\n",
              "</mark>\n",
              " cases in the whole world</div></span>"
            ],
            "text/plain": [
              "<IPython.core.display.HTML object>"
            ]
          },
          "metadata": {
            "tags": []
          }
        },
        {
          "output_type": "display_data",
          "data": {
            "text/html": [
              "<span class=\"tex2jax_ignore\"><div class=\"entities\" style=\"line-height: 2.5; direction: ltr\">No other disease has ever affected the human race like \n",
              "<mark class=\"entity\" style=\"background: #ddd; padding: 0.45em 0.6em; margin: 0 0.25em; line-height: 1; border-radius: 0.35em;\">\n",
              "    congenital heart disease\n",
              "    <span style=\"font-size: 0.8em; font-weight: bold; line-height: 1; border-radius: 0.35em; text-transform: uppercase; vertical-align: middle; margin-left: 0.5rem\">DISEASE</span>\n",
              "</mark>\n",
              "</div></span>"
            ],
            "text/plain": [
              "<IPython.core.display.HTML object>"
            ]
          },
          "metadata": {
            "tags": []
          }
        },
        {
          "output_type": "display_data",
          "data": {
            "text/html": [
              "<span class=\"tex2jax_ignore\"><div class=\"entities\" style=\"line-height: 2.5; direction: ltr\">What will be the new president's coarse of action on \n",
              "<mark class=\"entity\" style=\"background: #ddd; padding: 0.45em 0.6em; margin: 0 0.25em; line-height: 1; border-radius: 0.35em;\">\n",
              "    congenital heart disease\n",
              "    <span style=\"font-size: 0.8em; font-weight: bold; line-height: 1; border-radius: 0.35em; text-transform: uppercase; vertical-align: middle; margin-left: 0.5rem\">DISEASE</span>\n",
              "</mark>\n",
              " ?</div></span>"
            ],
            "text/plain": [
              "<IPython.core.display.HTML object>"
            ]
          },
          "metadata": {
            "tags": []
          }
        },
        {
          "output_type": "display_data",
          "data": {
            "text/html": [
              "<span class=\"tex2jax_ignore\"><div class=\"entities\" style=\"line-height: 2.5; direction: ltr\">\n",
              "<mark class=\"entity\" style=\"background: #ddd; padding: 0.45em 0.6em; margin: 0 0.25em; line-height: 1; border-radius: 0.35em;\">\n",
              "    hypertensive heart disease\n",
              "    <span style=\"font-size: 0.8em; font-weight: bold; line-height: 1; border-radius: 0.35em; text-transform: uppercase; vertical-align: middle; margin-left: 0.5rem\">DISEASE</span>\n",
              "</mark>\n",
              " can really affect the 2020 presidential elections</div></span>"
            ],
            "text/plain": [
              "<IPython.core.display.HTML object>"
            ]
          },
          "metadata": {
            "tags": []
          }
        },
        {
          "output_type": "display_data",
          "data": {
            "text/html": [
              "<span class=\"tex2jax_ignore\"><div class=\"entities\" style=\"line-height: 2.5; direction: ltr\">\n",
              "<mark class=\"entity\" style=\"background: #ddd; padding: 0.45em 0.6em; margin: 0 0.25em; line-height: 1; border-radius: 0.35em;\">\n",
              "    hypertensive heart disease\n",
              "    <span style=\"font-size: 0.8em; font-weight: bold; line-height: 1; border-radius: 0.35em; text-transform: uppercase; vertical-align: middle; margin-left: 0.5rem\">DISEASE</span>\n",
              "</mark>\n",
              " might introduce a new civilization to mankind</div></span>"
            ],
            "text/plain": [
              "<IPython.core.display.HTML object>"
            ]
          },
          "metadata": {
            "tags": []
          }
        },
        {
          "output_type": "display_data",
          "data": {
            "text/html": [
              "<span class=\"tex2jax_ignore\"><div class=\"entities\" style=\"line-height: 2.5; direction: ltr\">Do you think that  \n",
              "<mark class=\"entity\" style=\"background: #ddd; padding: 0.45em 0.6em; margin: 0 0.25em; line-height: 1; border-radius: 0.35em;\">\n",
              "    hypertensive heart disease\n",
              "    <span style=\"font-size: 0.8em; font-weight: bold; line-height: 1; border-radius: 0.35em; text-transform: uppercase; vertical-align: middle; margin-left: 0.5rem\">DISEASE</span>\n",
              "</mark>\n",
              " is an indication of biowar between the world's superpowers ?</div></span>"
            ],
            "text/plain": [
              "<IPython.core.display.HTML object>"
            ]
          },
          "metadata": {
            "tags": []
          }
        },
        {
          "output_type": "display_data",
          "data": {
            "text/html": [
              "<span class=\"tex2jax_ignore\"><div class=\"entities\" style=\"line-height: 2.5; direction: ltr\">India has the most number of \n",
              "<mark class=\"entity\" style=\"background: #ddd; padding: 0.45em 0.6em; margin: 0 0.25em; line-height: 1; border-radius: 0.35em;\">\n",
              "    hypertensive heart disease\n",
              "    <span style=\"font-size: 0.8em; font-weight: bold; line-height: 1; border-radius: 0.35em; text-transform: uppercase; vertical-align: middle; margin-left: 0.5rem\">DISEASE</span>\n",
              "</mark>\n",
              " cases in the whole world</div></span>"
            ],
            "text/plain": [
              "<IPython.core.display.HTML object>"
            ]
          },
          "metadata": {
            "tags": []
          }
        },
        {
          "output_type": "display_data",
          "data": {
            "text/html": [
              "<span class=\"tex2jax_ignore\"><div class=\"entities\" style=\"line-height: 2.5; direction: ltr\">No other disease has ever affected the human race like \n",
              "<mark class=\"entity\" style=\"background: #ddd; padding: 0.45em 0.6em; margin: 0 0.25em; line-height: 1; border-radius: 0.35em;\">\n",
              "    hypertensive heart disease\n",
              "    <span style=\"font-size: 0.8em; font-weight: bold; line-height: 1; border-radius: 0.35em; text-transform: uppercase; vertical-align: middle; margin-left: 0.5rem\">DISEASE</span>\n",
              "</mark>\n",
              "</div></span>"
            ],
            "text/plain": [
              "<IPython.core.display.HTML object>"
            ]
          },
          "metadata": {
            "tags": []
          }
        },
        {
          "output_type": "display_data",
          "data": {
            "text/html": [
              "<span class=\"tex2jax_ignore\"><div class=\"entities\" style=\"line-height: 2.5; direction: ltr\">What will be the new president's coarse of action on \n",
              "<mark class=\"entity\" style=\"background: #ddd; padding: 0.45em 0.6em; margin: 0 0.25em; line-height: 1; border-radius: 0.35em;\">\n",
              "    hypertensive heart disease\n",
              "    <span style=\"font-size: 0.8em; font-weight: bold; line-height: 1; border-radius: 0.35em; text-transform: uppercase; vertical-align: middle; margin-left: 0.5rem\">DISEASE</span>\n",
              "</mark>\n",
              " ?</div></span>"
            ],
            "text/plain": [
              "<IPython.core.display.HTML object>"
            ]
          },
          "metadata": {
            "tags": []
          }
        },
        {
          "output_type": "display_data",
          "data": {
            "text/html": [
              "<span class=\"tex2jax_ignore\"><div class=\"entities\" style=\"line-height: 2.5; direction: ltr\">\n",
              "<mark class=\"entity\" style=\"background: #ddd; padding: 0.45em 0.6em; margin: 0 0.25em; line-height: 1; border-radius: 0.35em;\">\n",
              "    thromboembolic disease\n",
              "    <span style=\"font-size: 0.8em; font-weight: bold; line-height: 1; border-radius: 0.35em; text-transform: uppercase; vertical-align: middle; margin-left: 0.5rem\">DISEASE</span>\n",
              "</mark>\n",
              " can really affect the 2020 presidential elections</div></span>"
            ],
            "text/plain": [
              "<IPython.core.display.HTML object>"
            ]
          },
          "metadata": {
            "tags": []
          }
        },
        {
          "output_type": "display_data",
          "data": {
            "text/html": [
              "<span class=\"tex2jax_ignore\"><div class=\"entities\" style=\"line-height: 2.5; direction: ltr\">\n",
              "<mark class=\"entity\" style=\"background: #ddd; padding: 0.45em 0.6em; margin: 0 0.25em; line-height: 1; border-radius: 0.35em;\">\n",
              "    thromboembolic disease\n",
              "    <span style=\"font-size: 0.8em; font-weight: bold; line-height: 1; border-radius: 0.35em; text-transform: uppercase; vertical-align: middle; margin-left: 0.5rem\">DISEASE</span>\n",
              "</mark>\n",
              " might introduce a new civilization to mankind</div></span>"
            ],
            "text/plain": [
              "<IPython.core.display.HTML object>"
            ]
          },
          "metadata": {
            "tags": []
          }
        },
        {
          "output_type": "display_data",
          "data": {
            "text/html": [
              "<span class=\"tex2jax_ignore\"><div class=\"entities\" style=\"line-height: 2.5; direction: ltr\">Do you think that  \n",
              "<mark class=\"entity\" style=\"background: #ddd; padding: 0.45em 0.6em; margin: 0 0.25em; line-height: 1; border-radius: 0.35em;\">\n",
              "    thromboembolic disease\n",
              "    <span style=\"font-size: 0.8em; font-weight: bold; line-height: 1; border-radius: 0.35em; text-transform: uppercase; vertical-align: middle; margin-left: 0.5rem\">DISEASE</span>\n",
              "</mark>\n",
              " is an indication of biowar between the world's superpowers ?</div></span>"
            ],
            "text/plain": [
              "<IPython.core.display.HTML object>"
            ]
          },
          "metadata": {
            "tags": []
          }
        },
        {
          "output_type": "display_data",
          "data": {
            "text/html": [
              "<span class=\"tex2jax_ignore\"><div class=\"entities\" style=\"line-height: 2.5; direction: ltr\">India has the most number of \n",
              "<mark class=\"entity\" style=\"background: #ddd; padding: 0.45em 0.6em; margin: 0 0.25em; line-height: 1; border-radius: 0.35em;\">\n",
              "    thromboembolic disease\n",
              "    <span style=\"font-size: 0.8em; font-weight: bold; line-height: 1; border-radius: 0.35em; text-transform: uppercase; vertical-align: middle; margin-left: 0.5rem\">DISEASE</span>\n",
              "</mark>\n",
              " cases in the whole world</div></span>"
            ],
            "text/plain": [
              "<IPython.core.display.HTML object>"
            ]
          },
          "metadata": {
            "tags": []
          }
        },
        {
          "output_type": "display_data",
          "data": {
            "text/html": [
              "<span class=\"tex2jax_ignore\"><div class=\"entities\" style=\"line-height: 2.5; direction: ltr\">No other disease has ever affected the human race like \n",
              "<mark class=\"entity\" style=\"background: #ddd; padding: 0.45em 0.6em; margin: 0 0.25em; line-height: 1; border-radius: 0.35em;\">\n",
              "    thromboembolic disease\n",
              "    <span style=\"font-size: 0.8em; font-weight: bold; line-height: 1; border-radius: 0.35em; text-transform: uppercase; vertical-align: middle; margin-left: 0.5rem\">DISEASE</span>\n",
              "</mark>\n",
              "</div></span>"
            ],
            "text/plain": [
              "<IPython.core.display.HTML object>"
            ]
          },
          "metadata": {
            "tags": []
          }
        },
        {
          "output_type": "display_data",
          "data": {
            "text/html": [
              "<span class=\"tex2jax_ignore\"><div class=\"entities\" style=\"line-height: 2.5; direction: ltr\">What will be the new president's coarse of action on \n",
              "<mark class=\"entity\" style=\"background: #ddd; padding: 0.45em 0.6em; margin: 0 0.25em; line-height: 1; border-radius: 0.35em;\">\n",
              "    thromboembolic disease\n",
              "    <span style=\"font-size: 0.8em; font-weight: bold; line-height: 1; border-radius: 0.35em; text-transform: uppercase; vertical-align: middle; margin-left: 0.5rem\">DISEASE</span>\n",
              "</mark>\n",
              " ?</div></span>"
            ],
            "text/plain": [
              "<IPython.core.display.HTML object>"
            ]
          },
          "metadata": {
            "tags": []
          }
        },
        {
          "output_type": "display_data",
          "data": {
            "text/html": [
              "<span class=\"tex2jax_ignore\"><div class=\"entities\" style=\"line-height: 2.5; direction: ltr\">\n",
              "<mark class=\"entity\" style=\"background: #ddd; padding: 0.45em 0.6em; margin: 0 0.25em; line-height: 1; border-radius: 0.35em;\">\n",
              "    peripheral artery disease\n",
              "    <span style=\"font-size: 0.8em; font-weight: bold; line-height: 1; border-radius: 0.35em; text-transform: uppercase; vertical-align: middle; margin-left: 0.5rem\">DISEASE</span>\n",
              "</mark>\n",
              " can really affect the 2020 presidential elections</div></span>"
            ],
            "text/plain": [
              "<IPython.core.display.HTML object>"
            ]
          },
          "metadata": {
            "tags": []
          }
        },
        {
          "output_type": "display_data",
          "data": {
            "text/html": [
              "<span class=\"tex2jax_ignore\"><div class=\"entities\" style=\"line-height: 2.5; direction: ltr\">\n",
              "<mark class=\"entity\" style=\"background: #ddd; padding: 0.45em 0.6em; margin: 0 0.25em; line-height: 1; border-radius: 0.35em;\">\n",
              "    peripheral artery disease\n",
              "    <span style=\"font-size: 0.8em; font-weight: bold; line-height: 1; border-radius: 0.35em; text-transform: uppercase; vertical-align: middle; margin-left: 0.5rem\">DISEASE</span>\n",
              "</mark>\n",
              " might introduce a new civilization to mankind</div></span>"
            ],
            "text/plain": [
              "<IPython.core.display.HTML object>"
            ]
          },
          "metadata": {
            "tags": []
          }
        },
        {
          "output_type": "display_data",
          "data": {
            "text/html": [
              "<span class=\"tex2jax_ignore\"><div class=\"entities\" style=\"line-height: 2.5; direction: ltr\">Do you think that  \n",
              "<mark class=\"entity\" style=\"background: #ddd; padding: 0.45em 0.6em; margin: 0 0.25em; line-height: 1; border-radius: 0.35em;\">\n",
              "    peripheral artery disease\n",
              "    <span style=\"font-size: 0.8em; font-weight: bold; line-height: 1; border-radius: 0.35em; text-transform: uppercase; vertical-align: middle; margin-left: 0.5rem\">DISEASE</span>\n",
              "</mark>\n",
              " is an indication of biowar between the world's superpowers ?</div></span>"
            ],
            "text/plain": [
              "<IPython.core.display.HTML object>"
            ]
          },
          "metadata": {
            "tags": []
          }
        },
        {
          "output_type": "display_data",
          "data": {
            "text/html": [
              "<span class=\"tex2jax_ignore\"><div class=\"entities\" style=\"line-height: 2.5; direction: ltr\">India has the most number of \n",
              "<mark class=\"entity\" style=\"background: #ddd; padding: 0.45em 0.6em; margin: 0 0.25em; line-height: 1; border-radius: 0.35em;\">\n",
              "    peripheral artery disease\n",
              "    <span style=\"font-size: 0.8em; font-weight: bold; line-height: 1; border-radius: 0.35em; text-transform: uppercase; vertical-align: middle; margin-left: 0.5rem\">DISEASE</span>\n",
              "</mark>\n",
              " cases in the whole world</div></span>"
            ],
            "text/plain": [
              "<IPython.core.display.HTML object>"
            ]
          },
          "metadata": {
            "tags": []
          }
        },
        {
          "output_type": "display_data",
          "data": {
            "text/html": [
              "<span class=\"tex2jax_ignore\"><div class=\"entities\" style=\"line-height: 2.5; direction: ltr\">No other disease has ever affected the human race like \n",
              "<mark class=\"entity\" style=\"background: #ddd; padding: 0.45em 0.6em; margin: 0 0.25em; line-height: 1; border-radius: 0.35em;\">\n",
              "    peripheral artery disease\n",
              "    <span style=\"font-size: 0.8em; font-weight: bold; line-height: 1; border-radius: 0.35em; text-transform: uppercase; vertical-align: middle; margin-left: 0.5rem\">DISEASE</span>\n",
              "</mark>\n",
              "</div></span>"
            ],
            "text/plain": [
              "<IPython.core.display.HTML object>"
            ]
          },
          "metadata": {
            "tags": []
          }
        },
        {
          "output_type": "display_data",
          "data": {
            "text/html": [
              "<span class=\"tex2jax_ignore\"><div class=\"entities\" style=\"line-height: 2.5; direction: ltr\">What will be the new president's coarse of action on \n",
              "<mark class=\"entity\" style=\"background: #ddd; padding: 0.45em 0.6em; margin: 0 0.25em; line-height: 1; border-radius: 0.35em;\">\n",
              "    peripheral artery disease\n",
              "    <span style=\"font-size: 0.8em; font-weight: bold; line-height: 1; border-radius: 0.35em; text-transform: uppercase; vertical-align: middle; margin-left: 0.5rem\">DISEASE</span>\n",
              "</mark>\n",
              " ?</div></span>"
            ],
            "text/plain": [
              "<IPython.core.display.HTML object>"
            ]
          },
          "metadata": {
            "tags": []
          }
        },
        {
          "output_type": "display_data",
          "data": {
            "text/html": [
              "<span class=\"tex2jax_ignore\"><div class=\"entities\" style=\"line-height: 2.5; direction: ltr\">\n",
              "<mark class=\"entity\" style=\"background: #ddd; padding: 0.45em 0.6em; margin: 0 0.25em; line-height: 1; border-radius: 0.35em;\">\n",
              "    carditis\n",
              "    <span style=\"font-size: 0.8em; font-weight: bold; line-height: 1; border-radius: 0.35em; text-transform: uppercase; vertical-align: middle; margin-left: 0.5rem\">DISEASE</span>\n",
              "</mark>\n",
              " can really affect the 2020 presidential elections</div></span>"
            ],
            "text/plain": [
              "<IPython.core.display.HTML object>"
            ]
          },
          "metadata": {
            "tags": []
          }
        },
        {
          "output_type": "display_data",
          "data": {
            "text/html": [
              "<span class=\"tex2jax_ignore\"><div class=\"entities\" style=\"line-height: 2.5; direction: ltr\">\n",
              "<mark class=\"entity\" style=\"background: #ddd; padding: 0.45em 0.6em; margin: 0 0.25em; line-height: 1; border-radius: 0.35em;\">\n",
              "    carditis\n",
              "    <span style=\"font-size: 0.8em; font-weight: bold; line-height: 1; border-radius: 0.35em; text-transform: uppercase; vertical-align: middle; margin-left: 0.5rem\">DISEASE</span>\n",
              "</mark>\n",
              " might introduce a new civilization to mankind</div></span>"
            ],
            "text/plain": [
              "<IPython.core.display.HTML object>"
            ]
          },
          "metadata": {
            "tags": []
          }
        },
        {
          "output_type": "display_data",
          "data": {
            "text/html": [
              "<span class=\"tex2jax_ignore\"><div class=\"entities\" style=\"line-height: 2.5; direction: ltr\">Do you think that  \n",
              "<mark class=\"entity\" style=\"background: #ddd; padding: 0.45em 0.6em; margin: 0 0.25em; line-height: 1; border-radius: 0.35em;\">\n",
              "    carditis\n",
              "    <span style=\"font-size: 0.8em; font-weight: bold; line-height: 1; border-radius: 0.35em; text-transform: uppercase; vertical-align: middle; margin-left: 0.5rem\">DISEASE</span>\n",
              "</mark>\n",
              " is an indication of biowar between the world's superpowers ?</div></span>"
            ],
            "text/plain": [
              "<IPython.core.display.HTML object>"
            ]
          },
          "metadata": {
            "tags": []
          }
        },
        {
          "output_type": "display_data",
          "data": {
            "text/html": [
              "<span class=\"tex2jax_ignore\"><div class=\"entities\" style=\"line-height: 2.5; direction: ltr\">India has the most number of \n",
              "<mark class=\"entity\" style=\"background: #ddd; padding: 0.45em 0.6em; margin: 0 0.25em; line-height: 1; border-radius: 0.35em;\">\n",
              "    carditis\n",
              "    <span style=\"font-size: 0.8em; font-weight: bold; line-height: 1; border-radius: 0.35em; text-transform: uppercase; vertical-align: middle; margin-left: 0.5rem\">DISEASE</span>\n",
              "</mark>\n",
              " cases in the whole world</div></span>"
            ],
            "text/plain": [
              "<IPython.core.display.HTML object>"
            ]
          },
          "metadata": {
            "tags": []
          }
        },
        {
          "output_type": "display_data",
          "data": {
            "text/html": [
              "<span class=\"tex2jax_ignore\"><div class=\"entities\" style=\"line-height: 2.5; direction: ltr\">No other disease has ever affected the human race like \n",
              "<mark class=\"entity\" style=\"background: #ddd; padding: 0.45em 0.6em; margin: 0 0.25em; line-height: 1; border-radius: 0.35em;\">\n",
              "    carditis\n",
              "    <span style=\"font-size: 0.8em; font-weight: bold; line-height: 1; border-radius: 0.35em; text-transform: uppercase; vertical-align: middle; margin-left: 0.5rem\">DISEASE</span>\n",
              "</mark>\n",
              "</div></span>"
            ],
            "text/plain": [
              "<IPython.core.display.HTML object>"
            ]
          },
          "metadata": {
            "tags": []
          }
        },
        {
          "output_type": "display_data",
          "data": {
            "text/html": [
              "<span class=\"tex2jax_ignore\"><div class=\"entities\" style=\"line-height: 2.5; direction: ltr\">What will be the new president's coarse of action on \n",
              "<mark class=\"entity\" style=\"background: #ddd; padding: 0.45em 0.6em; margin: 0 0.25em; line-height: 1; border-radius: 0.35em;\">\n",
              "    carditis\n",
              "    <span style=\"font-size: 0.8em; font-weight: bold; line-height: 1; border-radius: 0.35em; text-transform: uppercase; vertical-align: middle; margin-left: 0.5rem\">DISEASE</span>\n",
              "</mark>\n",
              " ?</div></span>"
            ],
            "text/plain": [
              "<IPython.core.display.HTML object>"
            ]
          },
          "metadata": {
            "tags": []
          }
        },
        {
          "output_type": "display_data",
          "data": {
            "text/html": [
              "<span class=\"tex2jax_ignore\"><div class=\"entities\" style=\"line-height: 2.5; direction: ltr\">\n",
              "<mark class=\"entity\" style=\"background: #ddd; padding: 0.45em 0.6em; margin: 0 0.25em; line-height: 1; border-radius: 0.35em;\">\n",
              "    heart failure\n",
              "    <span style=\"font-size: 0.8em; font-weight: bold; line-height: 1; border-radius: 0.35em; text-transform: uppercase; vertical-align: middle; margin-left: 0.5rem\">DISEASE</span>\n",
              "</mark>\n",
              " can really affect the 2020 presidential elections</div></span>"
            ],
            "text/plain": [
              "<IPython.core.display.HTML object>"
            ]
          },
          "metadata": {
            "tags": []
          }
        },
        {
          "output_type": "display_data",
          "data": {
            "text/html": [
              "<span class=\"tex2jax_ignore\"><div class=\"entities\" style=\"line-height: 2.5; direction: ltr\">\n",
              "<mark class=\"entity\" style=\"background: #ddd; padding: 0.45em 0.6em; margin: 0 0.25em; line-height: 1; border-radius: 0.35em;\">\n",
              "    heart failure\n",
              "    <span style=\"font-size: 0.8em; font-weight: bold; line-height: 1; border-radius: 0.35em; text-transform: uppercase; vertical-align: middle; margin-left: 0.5rem\">DISEASE</span>\n",
              "</mark>\n",
              " might introduce a new civilization to mankind</div></span>"
            ],
            "text/plain": [
              "<IPython.core.display.HTML object>"
            ]
          },
          "metadata": {
            "tags": []
          }
        },
        {
          "output_type": "display_data",
          "data": {
            "text/html": [
              "<span class=\"tex2jax_ignore\"><div class=\"entities\" style=\"line-height: 2.5; direction: ltr\">Do you think that  \n",
              "<mark class=\"entity\" style=\"background: #ddd; padding: 0.45em 0.6em; margin: 0 0.25em; line-height: 1; border-radius: 0.35em;\">\n",
              "    heart failure\n",
              "    <span style=\"font-size: 0.8em; font-weight: bold; line-height: 1; border-radius: 0.35em; text-transform: uppercase; vertical-align: middle; margin-left: 0.5rem\">DISEASE</span>\n",
              "</mark>\n",
              " is an indication of biowar between the world's superpowers ?</div></span>"
            ],
            "text/plain": [
              "<IPython.core.display.HTML object>"
            ]
          },
          "metadata": {
            "tags": []
          }
        },
        {
          "output_type": "display_data",
          "data": {
            "text/html": [
              "<span class=\"tex2jax_ignore\"><div class=\"entities\" style=\"line-height: 2.5; direction: ltr\">India has the most number of \n",
              "<mark class=\"entity\" style=\"background: #ddd; padding: 0.45em 0.6em; margin: 0 0.25em; line-height: 1; border-radius: 0.35em;\">\n",
              "    heart failure\n",
              "    <span style=\"font-size: 0.8em; font-weight: bold; line-height: 1; border-radius: 0.35em; text-transform: uppercase; vertical-align: middle; margin-left: 0.5rem\">DISEASE</span>\n",
              "</mark>\n",
              " \n",
              "<mark class=\"entity\" style=\"background: #ddd; padding: 0.45em 0.6em; margin: 0 0.25em; line-height: 1; border-radius: 0.35em;\">\n",
              "    cases\n",
              "    <span style=\"font-size: 0.8em; font-weight: bold; line-height: 1; border-radius: 0.35em; text-transform: uppercase; vertical-align: middle; margin-left: 0.5rem\">DISEASE</span>\n",
              "</mark>\n",
              " in the whole world</div></span>"
            ],
            "text/plain": [
              "<IPython.core.display.HTML object>"
            ]
          },
          "metadata": {
            "tags": []
          }
        },
        {
          "output_type": "stream",
          "text": [
            "India has the most number of heart failure cases in the whole world\n",
            "prediction: cases DISEASE 43 48\n",
            "Correct:  heart failure DISEASE   29 42\n"
          ],
          "name": "stdout"
        },
        {
          "output_type": "display_data",
          "data": {
            "text/html": [
              "<span class=\"tex2jax_ignore\"><div class=\"entities\" style=\"line-height: 2.5; direction: ltr\">India has the most number of \n",
              "<mark class=\"entity\" style=\"background: #ddd; padding: 0.45em 0.6em; margin: 0 0.25em; line-height: 1; border-radius: 0.35em;\">\n",
              "    heart failure\n",
              "    <span style=\"font-size: 0.8em; font-weight: bold; line-height: 1; border-radius: 0.35em; text-transform: uppercase; vertical-align: middle; margin-left: 0.5rem\">DISEASE</span>\n",
              "</mark>\n",
              " \n",
              "<mark class=\"entity\" style=\"background: #ddd; padding: 0.45em 0.6em; margin: 0 0.25em; line-height: 1; border-radius: 0.35em;\">\n",
              "    cases\n",
              "    <span style=\"font-size: 0.8em; font-weight: bold; line-height: 1; border-radius: 0.35em; text-transform: uppercase; vertical-align: middle; margin-left: 0.5rem\">DISEASE</span>\n",
              "</mark>\n",
              " in the whole world</div></span>"
            ],
            "text/plain": [
              "<IPython.core.display.HTML object>"
            ]
          },
          "metadata": {
            "tags": []
          }
        },
        {
          "output_type": "display_data",
          "data": {
            "text/html": [
              "<span class=\"tex2jax_ignore\"><div class=\"entities\" style=\"line-height: 2.5; direction: ltr\">No other disease has ever affected the human race like \n",
              "<mark class=\"entity\" style=\"background: #ddd; padding: 0.45em 0.6em; margin: 0 0.25em; line-height: 1; border-radius: 0.35em;\">\n",
              "    heart failure\n",
              "    <span style=\"font-size: 0.8em; font-weight: bold; line-height: 1; border-radius: 0.35em; text-transform: uppercase; vertical-align: middle; margin-left: 0.5rem\">DISEASE</span>\n",
              "</mark>\n",
              "</div></span>"
            ],
            "text/plain": [
              "<IPython.core.display.HTML object>"
            ]
          },
          "metadata": {
            "tags": []
          }
        },
        {
          "output_type": "display_data",
          "data": {
            "text/html": [
              "<span class=\"tex2jax_ignore\"><div class=\"entities\" style=\"line-height: 2.5; direction: ltr\">What will be the new president's coarse of action on \n",
              "<mark class=\"entity\" style=\"background: #ddd; padding: 0.45em 0.6em; margin: 0 0.25em; line-height: 1; border-radius: 0.35em;\">\n",
              "    heart failure\n",
              "    <span style=\"font-size: 0.8em; font-weight: bold; line-height: 1; border-radius: 0.35em; text-transform: uppercase; vertical-align: middle; margin-left: 0.5rem\">DISEASE</span>\n",
              "</mark>\n",
              " ?</div></span>"
            ],
            "text/plain": [
              "<IPython.core.display.HTML object>"
            ]
          },
          "metadata": {
            "tags": []
          }
        },
        {
          "output_type": "display_data",
          "data": {
            "text/html": [
              "<span class=\"tex2jax_ignore\"><div class=\"entities\" style=\"line-height: 2.5; direction: ltr\">\n",
              "<mark class=\"entity\" style=\"background: #ddd; padding: 0.45em 0.6em; margin: 0 0.25em; line-height: 1; border-radius: 0.35em;\">\n",
              "    myocardial infarction\n",
              "    <span style=\"font-size: 0.8em; font-weight: bold; line-height: 1; border-radius: 0.35em; text-transform: uppercase; vertical-align: middle; margin-left: 0.5rem\">DISEASE</span>\n",
              "</mark>\n",
              " can really affect the 2020 presidential elections</div></span>"
            ],
            "text/plain": [
              "<IPython.core.display.HTML object>"
            ]
          },
          "metadata": {
            "tags": []
          }
        },
        {
          "output_type": "display_data",
          "data": {
            "text/html": [
              "<span class=\"tex2jax_ignore\"><div class=\"entities\" style=\"line-height: 2.5; direction: ltr\">\n",
              "<mark class=\"entity\" style=\"background: #ddd; padding: 0.45em 0.6em; margin: 0 0.25em; line-height: 1; border-radius: 0.35em;\">\n",
              "    myocardial infarction\n",
              "    <span style=\"font-size: 0.8em; font-weight: bold; line-height: 1; border-radius: 0.35em; text-transform: uppercase; vertical-align: middle; margin-left: 0.5rem\">DISEASE</span>\n",
              "</mark>\n",
              " might introduce a new civilization to mankind</div></span>"
            ],
            "text/plain": [
              "<IPython.core.display.HTML object>"
            ]
          },
          "metadata": {
            "tags": []
          }
        },
        {
          "output_type": "display_data",
          "data": {
            "text/html": [
              "<span class=\"tex2jax_ignore\"><div class=\"entities\" style=\"line-height: 2.5; direction: ltr\">Do you think that  \n",
              "<mark class=\"entity\" style=\"background: #ddd; padding: 0.45em 0.6em; margin: 0 0.25em; line-height: 1; border-radius: 0.35em;\">\n",
              "    myocardial infarction\n",
              "    <span style=\"font-size: 0.8em; font-weight: bold; line-height: 1; border-radius: 0.35em; text-transform: uppercase; vertical-align: middle; margin-left: 0.5rem\">DISEASE</span>\n",
              "</mark>\n",
              " is an indication of biowar between the world's superpowers ?</div></span>"
            ],
            "text/plain": [
              "<IPython.core.display.HTML object>"
            ]
          },
          "metadata": {
            "tags": []
          }
        },
        {
          "output_type": "stream",
          "text": [
            "India has the most number of myocardial infarction cases in the whole world\n",
            "prediction: myocardial infarction cases DISEASE 29 56\n",
            "Correct:  myocardial infarction DISEASE   29 50\n"
          ],
          "name": "stdout"
        },
        {
          "output_type": "display_data",
          "data": {
            "text/html": [
              "<span class=\"tex2jax_ignore\"><div class=\"entities\" style=\"line-height: 2.5; direction: ltr\">India has the most number of \n",
              "<mark class=\"entity\" style=\"background: #ddd; padding: 0.45em 0.6em; margin: 0 0.25em; line-height: 1; border-radius: 0.35em;\">\n",
              "    myocardial infarction cases\n",
              "    <span style=\"font-size: 0.8em; font-weight: bold; line-height: 1; border-radius: 0.35em; text-transform: uppercase; vertical-align: middle; margin-left: 0.5rem\">DISEASE</span>\n",
              "</mark>\n",
              " in the whole world</div></span>"
            ],
            "text/plain": [
              "<IPython.core.display.HTML object>"
            ]
          },
          "metadata": {
            "tags": []
          }
        },
        {
          "output_type": "display_data",
          "data": {
            "text/html": [
              "<span class=\"tex2jax_ignore\"><div class=\"entities\" style=\"line-height: 2.5; direction: ltr\">No other disease has ever affected the human race like \n",
              "<mark class=\"entity\" style=\"background: #ddd; padding: 0.45em 0.6em; margin: 0 0.25em; line-height: 1; border-radius: 0.35em;\">\n",
              "    myocardial infarction\n",
              "    <span style=\"font-size: 0.8em; font-weight: bold; line-height: 1; border-radius: 0.35em; text-transform: uppercase; vertical-align: middle; margin-left: 0.5rem\">DISEASE</span>\n",
              "</mark>\n",
              "</div></span>"
            ],
            "text/plain": [
              "<IPython.core.display.HTML object>"
            ]
          },
          "metadata": {
            "tags": []
          }
        },
        {
          "output_type": "display_data",
          "data": {
            "text/html": [
              "<span class=\"tex2jax_ignore\"><div class=\"entities\" style=\"line-height: 2.5; direction: ltr\">What will be the new president's coarse of action on \n",
              "<mark class=\"entity\" style=\"background: #ddd; padding: 0.45em 0.6em; margin: 0 0.25em; line-height: 1; border-radius: 0.35em;\">\n",
              "    myocardial infarction\n",
              "    <span style=\"font-size: 0.8em; font-weight: bold; line-height: 1; border-radius: 0.35em; text-transform: uppercase; vertical-align: middle; margin-left: 0.5rem\">DISEASE</span>\n",
              "</mark>\n",
              " ?</div></span>"
            ],
            "text/plain": [
              "<IPython.core.display.HTML object>"
            ]
          },
          "metadata": {
            "tags": []
          }
        },
        {
          "output_type": "display_data",
          "data": {
            "text/html": [
              "<span class=\"tex2jax_ignore\"><div class=\"entities\" style=\"line-height: 2.5; direction: ltr\">\n",
              "<mark class=\"entity\" style=\"background: #ddd; padding: 0.45em 0.6em; margin: 0 0.25em; line-height: 1; border-radius: 0.35em;\">\n",
              "    valvular heart disease\n",
              "    <span style=\"font-size: 0.8em; font-weight: bold; line-height: 1; border-radius: 0.35em; text-transform: uppercase; vertical-align: middle; margin-left: 0.5rem\">DISEASE</span>\n",
              "</mark>\n",
              " can really affect the 2020 presidential elections</div></span>"
            ],
            "text/plain": [
              "<IPython.core.display.HTML object>"
            ]
          },
          "metadata": {
            "tags": []
          }
        },
        {
          "output_type": "display_data",
          "data": {
            "text/html": [
              "<span class=\"tex2jax_ignore\"><div class=\"entities\" style=\"line-height: 2.5; direction: ltr\">\n",
              "<mark class=\"entity\" style=\"background: #ddd; padding: 0.45em 0.6em; margin: 0 0.25em; line-height: 1; border-radius: 0.35em;\">\n",
              "    valvular heart disease\n",
              "    <span style=\"font-size: 0.8em; font-weight: bold; line-height: 1; border-radius: 0.35em; text-transform: uppercase; vertical-align: middle; margin-left: 0.5rem\">DISEASE</span>\n",
              "</mark>\n",
              " might introduce a new civilization to mankind</div></span>"
            ],
            "text/plain": [
              "<IPython.core.display.HTML object>"
            ]
          },
          "metadata": {
            "tags": []
          }
        },
        {
          "output_type": "display_data",
          "data": {
            "text/html": [
              "<span class=\"tex2jax_ignore\"><div class=\"entities\" style=\"line-height: 2.5; direction: ltr\">Do you think that  \n",
              "<mark class=\"entity\" style=\"background: #ddd; padding: 0.45em 0.6em; margin: 0 0.25em; line-height: 1; border-radius: 0.35em;\">\n",
              "    valvular heart disease\n",
              "    <span style=\"font-size: 0.8em; font-weight: bold; line-height: 1; border-radius: 0.35em; text-transform: uppercase; vertical-align: middle; margin-left: 0.5rem\">DISEASE</span>\n",
              "</mark>\n",
              " is an indication of biowar between the world's superpowers ?</div></span>"
            ],
            "text/plain": [
              "<IPython.core.display.HTML object>"
            ]
          },
          "metadata": {
            "tags": []
          }
        },
        {
          "output_type": "display_data",
          "data": {
            "text/html": [
              "<span class=\"tex2jax_ignore\"><div class=\"entities\" style=\"line-height: 2.5; direction: ltr\">India has the most number of \n",
              "<mark class=\"entity\" style=\"background: #ddd; padding: 0.45em 0.6em; margin: 0 0.25em; line-height: 1; border-radius: 0.35em;\">\n",
              "    valvular heart disease\n",
              "    <span style=\"font-size: 0.8em; font-weight: bold; line-height: 1; border-radius: 0.35em; text-transform: uppercase; vertical-align: middle; margin-left: 0.5rem\">DISEASE</span>\n",
              "</mark>\n",
              " cases in the whole world</div></span>"
            ],
            "text/plain": [
              "<IPython.core.display.HTML object>"
            ]
          },
          "metadata": {
            "tags": []
          }
        },
        {
          "output_type": "display_data",
          "data": {
            "text/html": [
              "<span class=\"tex2jax_ignore\"><div class=\"entities\" style=\"line-height: 2.5; direction: ltr\">No other disease has ever affected the human race like \n",
              "<mark class=\"entity\" style=\"background: #ddd; padding: 0.45em 0.6em; margin: 0 0.25em; line-height: 1; border-radius: 0.35em;\">\n",
              "    valvular heart disease\n",
              "    <span style=\"font-size: 0.8em; font-weight: bold; line-height: 1; border-radius: 0.35em; text-transform: uppercase; vertical-align: middle; margin-left: 0.5rem\">DISEASE</span>\n",
              "</mark>\n",
              "</div></span>"
            ],
            "text/plain": [
              "<IPython.core.display.HTML object>"
            ]
          },
          "metadata": {
            "tags": []
          }
        },
        {
          "output_type": "display_data",
          "data": {
            "text/html": [
              "<span class=\"tex2jax_ignore\"><div class=\"entities\" style=\"line-height: 2.5; direction: ltr\">What will be the new president's coarse of action on \n",
              "<mark class=\"entity\" style=\"background: #ddd; padding: 0.45em 0.6em; margin: 0 0.25em; line-height: 1; border-radius: 0.35em;\">\n",
              "    valvular heart disease\n",
              "    <span style=\"font-size: 0.8em; font-weight: bold; line-height: 1; border-radius: 0.35em; text-transform: uppercase; vertical-align: middle; margin-left: 0.5rem\">DISEASE</span>\n",
              "</mark>\n",
              " ?</div></span>"
            ],
            "text/plain": [
              "<IPython.core.display.HTML object>"
            ]
          },
          "metadata": {
            "tags": []
          }
        },
        {
          "output_type": "display_data",
          "data": {
            "text/html": [
              "<span class=\"tex2jax_ignore\"><div class=\"entities\" style=\"line-height: 2.5; direction: ltr\">\n",
              "<mark class=\"entity\" style=\"background: #ddd; padding: 0.45em 0.6em; margin: 0 0.25em; line-height: 1; border-radius: 0.35em;\">\n",
              "    cardiomyopathy\n",
              "    <span style=\"font-size: 0.8em; font-weight: bold; line-height: 1; border-radius: 0.35em; text-transform: uppercase; vertical-align: middle; margin-left: 0.5rem\">DISEASE</span>\n",
              "</mark>\n",
              " can really affect the 2020 presidential elections</div></span>"
            ],
            "text/plain": [
              "<IPython.core.display.HTML object>"
            ]
          },
          "metadata": {
            "tags": []
          }
        },
        {
          "output_type": "display_data",
          "data": {
            "text/html": [
              "<span class=\"tex2jax_ignore\"><div class=\"entities\" style=\"line-height: 2.5; direction: ltr\">\n",
              "<mark class=\"entity\" style=\"background: #ddd; padding: 0.45em 0.6em; margin: 0 0.25em; line-height: 1; border-radius: 0.35em;\">\n",
              "    cardiomyopathy\n",
              "    <span style=\"font-size: 0.8em; font-weight: bold; line-height: 1; border-radius: 0.35em; text-transform: uppercase; vertical-align: middle; margin-left: 0.5rem\">DISEASE</span>\n",
              "</mark>\n",
              " might introduce a new civilization to mankind</div></span>"
            ],
            "text/plain": [
              "<IPython.core.display.HTML object>"
            ]
          },
          "metadata": {
            "tags": []
          }
        },
        {
          "output_type": "display_data",
          "data": {
            "text/html": [
              "<span class=\"tex2jax_ignore\"><div class=\"entities\" style=\"line-height: 2.5; direction: ltr\">Do you think that  \n",
              "<mark class=\"entity\" style=\"background: #ddd; padding: 0.45em 0.6em; margin: 0 0.25em; line-height: 1; border-radius: 0.35em;\">\n",
              "    cardiomyopathy\n",
              "    <span style=\"font-size: 0.8em; font-weight: bold; line-height: 1; border-radius: 0.35em; text-transform: uppercase; vertical-align: middle; margin-left: 0.5rem\">DISEASE</span>\n",
              "</mark>\n",
              " is an indication of biowar between the world's superpowers ?</div></span>"
            ],
            "text/plain": [
              "<IPython.core.display.HTML object>"
            ]
          },
          "metadata": {
            "tags": []
          }
        },
        {
          "output_type": "display_data",
          "data": {
            "text/html": [
              "<span class=\"tex2jax_ignore\"><div class=\"entities\" style=\"line-height: 2.5; direction: ltr\">India has the most number of \n",
              "<mark class=\"entity\" style=\"background: #ddd; padding: 0.45em 0.6em; margin: 0 0.25em; line-height: 1; border-radius: 0.35em;\">\n",
              "    cardiomyopathy\n",
              "    <span style=\"font-size: 0.8em; font-weight: bold; line-height: 1; border-radius: 0.35em; text-transform: uppercase; vertical-align: middle; margin-left: 0.5rem\">DISEASE</span>\n",
              "</mark>\n",
              " cases in the whole world</div></span>"
            ],
            "text/plain": [
              "<IPython.core.display.HTML object>"
            ]
          },
          "metadata": {
            "tags": []
          }
        },
        {
          "output_type": "display_data",
          "data": {
            "text/html": [
              "<span class=\"tex2jax_ignore\"><div class=\"entities\" style=\"line-height: 2.5; direction: ltr\">No other disease has ever affected the human race like \n",
              "<mark class=\"entity\" style=\"background: #ddd; padding: 0.45em 0.6em; margin: 0 0.25em; line-height: 1; border-radius: 0.35em;\">\n",
              "    cardiomyopathy\n",
              "    <span style=\"font-size: 0.8em; font-weight: bold; line-height: 1; border-radius: 0.35em; text-transform: uppercase; vertical-align: middle; margin-left: 0.5rem\">DISEASE</span>\n",
              "</mark>\n",
              "</div></span>"
            ],
            "text/plain": [
              "<IPython.core.display.HTML object>"
            ]
          },
          "metadata": {
            "tags": []
          }
        },
        {
          "output_type": "display_data",
          "data": {
            "text/html": [
              "<span class=\"tex2jax_ignore\"><div class=\"entities\" style=\"line-height: 2.5; direction: ltr\">What will be the new president's coarse of action on \n",
              "<mark class=\"entity\" style=\"background: #ddd; padding: 0.45em 0.6em; margin: 0 0.25em; line-height: 1; border-radius: 0.35em;\">\n",
              "    cardiomyopathy\n",
              "    <span style=\"font-size: 0.8em; font-weight: bold; line-height: 1; border-radius: 0.35em; text-transform: uppercase; vertical-align: middle; margin-left: 0.5rem\">DISEASE</span>\n",
              "</mark>\n",
              " ?</div></span>"
            ],
            "text/plain": [
              "<IPython.core.display.HTML object>"
            ]
          },
          "metadata": {
            "tags": []
          }
        },
        {
          "output_type": "display_data",
          "data": {
            "text/html": [
              "<span class=\"tex2jax_ignore\"><div class=\"entities\" style=\"line-height: 2.5; direction: ltr\">\n",
              "<mark class=\"entity\" style=\"background: #ddd; padding: 0.45em 0.6em; margin: 0 0.25em; line-height: 1; border-radius: 0.35em;\">\n",
              "    abnormal heart rhythms\n",
              "    <span style=\"font-size: 0.8em; font-weight: bold; line-height: 1; border-radius: 0.35em; text-transform: uppercase; vertical-align: middle; margin-left: 0.5rem\">DISEASE</span>\n",
              "</mark>\n",
              " can really affect the 2020 presidential elections</div></span>"
            ],
            "text/plain": [
              "<IPython.core.display.HTML object>"
            ]
          },
          "metadata": {
            "tags": []
          }
        },
        {
          "output_type": "display_data",
          "data": {
            "text/html": [
              "<span class=\"tex2jax_ignore\"><div class=\"entities\" style=\"line-height: 2.5; direction: ltr\">\n",
              "<mark class=\"entity\" style=\"background: #ddd; padding: 0.45em 0.6em; margin: 0 0.25em; line-height: 1; border-radius: 0.35em;\">\n",
              "    abnormal heart rhythms\n",
              "    <span style=\"font-size: 0.8em; font-weight: bold; line-height: 1; border-radius: 0.35em; text-transform: uppercase; vertical-align: middle; margin-left: 0.5rem\">DISEASE</span>\n",
              "</mark>\n",
              " might introduce a new civilization to mankind</div></span>"
            ],
            "text/plain": [
              "<IPython.core.display.HTML object>"
            ]
          },
          "metadata": {
            "tags": []
          }
        },
        {
          "output_type": "display_data",
          "data": {
            "text/html": [
              "<span class=\"tex2jax_ignore\"><div class=\"entities\" style=\"line-height: 2.5; direction: ltr\">Do you think that  \n",
              "<mark class=\"entity\" style=\"background: #ddd; padding: 0.45em 0.6em; margin: 0 0.25em; line-height: 1; border-radius: 0.35em;\">\n",
              "    abnormal heart rhythms\n",
              "    <span style=\"font-size: 0.8em; font-weight: bold; line-height: 1; border-radius: 0.35em; text-transform: uppercase; vertical-align: middle; margin-left: 0.5rem\">DISEASE</span>\n",
              "</mark>\n",
              " is an indication of biowar between the world's superpowers ?</div></span>"
            ],
            "text/plain": [
              "<IPython.core.display.HTML object>"
            ]
          },
          "metadata": {
            "tags": []
          }
        },
        {
          "output_type": "display_data",
          "data": {
            "text/html": [
              "<span class=\"tex2jax_ignore\"><div class=\"entities\" style=\"line-height: 2.5; direction: ltr\">India has the most number of \n",
              "<mark class=\"entity\" style=\"background: #ddd; padding: 0.45em 0.6em; margin: 0 0.25em; line-height: 1; border-radius: 0.35em;\">\n",
              "    abnormal heart rhythms\n",
              "    <span style=\"font-size: 0.8em; font-weight: bold; line-height: 1; border-radius: 0.35em; text-transform: uppercase; vertical-align: middle; margin-left: 0.5rem\">DISEASE</span>\n",
              "</mark>\n",
              " cases in the whole world</div></span>"
            ],
            "text/plain": [
              "<IPython.core.display.HTML object>"
            ]
          },
          "metadata": {
            "tags": []
          }
        },
        {
          "output_type": "display_data",
          "data": {
            "text/html": [
              "<span class=\"tex2jax_ignore\"><div class=\"entities\" style=\"line-height: 2.5; direction: ltr\">No other disease has ever affected the human race like \n",
              "<mark class=\"entity\" style=\"background: #ddd; padding: 0.45em 0.6em; margin: 0 0.25em; line-height: 1; border-radius: 0.35em;\">\n",
              "    abnormal heart rhythms\n",
              "    <span style=\"font-size: 0.8em; font-weight: bold; line-height: 1; border-radius: 0.35em; text-transform: uppercase; vertical-align: middle; margin-left: 0.5rem\">DISEASE</span>\n",
              "</mark>\n",
              "</div></span>"
            ],
            "text/plain": [
              "<IPython.core.display.HTML object>"
            ]
          },
          "metadata": {
            "tags": []
          }
        },
        {
          "output_type": "display_data",
          "data": {
            "text/html": [
              "<span class=\"tex2jax_ignore\"><div class=\"entities\" style=\"line-height: 2.5; direction: ltr\">What will be the new president's coarse of action on \n",
              "<mark class=\"entity\" style=\"background: #ddd; padding: 0.45em 0.6em; margin: 0 0.25em; line-height: 1; border-radius: 0.35em;\">\n",
              "    abnormal heart rhythms\n",
              "    <span style=\"font-size: 0.8em; font-weight: bold; line-height: 1; border-radius: 0.35em; text-transform: uppercase; vertical-align: middle; margin-left: 0.5rem\">DISEASE</span>\n",
              "</mark>\n",
              " ?</div></span>"
            ],
            "text/plain": [
              "<IPython.core.display.HTML object>"
            ]
          },
          "metadata": {
            "tags": []
          }
        },
        {
          "output_type": "display_data",
          "data": {
            "text/html": [
              "<span class=\"tex2jax_ignore\"><div class=\"entities\" style=\"line-height: 2.5; direction: ltr\">\n",
              "<mark class=\"entity\" style=\"background: #ddd; padding: 0.45em 0.6em; margin: 0 0.25em; line-height: 1; border-radius: 0.35em;\">\n",
              "    stroke\n",
              "    <span style=\"font-size: 0.8em; font-weight: bold; line-height: 1; border-radius: 0.35em; text-transform: uppercase; vertical-align: middle; margin-left: 0.5rem\">DISEASE</span>\n",
              "</mark>\n",
              " can really affect the 2020 presidential elections</div></span>"
            ],
            "text/plain": [
              "<IPython.core.display.HTML object>"
            ]
          },
          "metadata": {
            "tags": []
          }
        },
        {
          "output_type": "display_data",
          "data": {
            "text/html": [
              "<span class=\"tex2jax_ignore\"><div class=\"entities\" style=\"line-height: 2.5; direction: ltr\">\n",
              "<mark class=\"entity\" style=\"background: #ddd; padding: 0.45em 0.6em; margin: 0 0.25em; line-height: 1; border-radius: 0.35em;\">\n",
              "    stroke\n",
              "    <span style=\"font-size: 0.8em; font-weight: bold; line-height: 1; border-radius: 0.35em; text-transform: uppercase; vertical-align: middle; margin-left: 0.5rem\">DISEASE</span>\n",
              "</mark>\n",
              " might introduce a new civilization to mankind</div></span>"
            ],
            "text/plain": [
              "<IPython.core.display.HTML object>"
            ]
          },
          "metadata": {
            "tags": []
          }
        },
        {
          "output_type": "display_data",
          "data": {
            "text/html": [
              "<span class=\"tex2jax_ignore\"><div class=\"entities\" style=\"line-height: 2.5; direction: ltr\">Do you think that  \n",
              "<mark class=\"entity\" style=\"background: #ddd; padding: 0.45em 0.6em; margin: 0 0.25em; line-height: 1; border-radius: 0.35em;\">\n",
              "    stroke\n",
              "    <span style=\"font-size: 0.8em; font-weight: bold; line-height: 1; border-radius: 0.35em; text-transform: uppercase; vertical-align: middle; margin-left: 0.5rem\">DISEASE</span>\n",
              "</mark>\n",
              " is an indication of biowar between the world's superpowers ?</div></span>"
            ],
            "text/plain": [
              "<IPython.core.display.HTML object>"
            ]
          },
          "metadata": {
            "tags": []
          }
        },
        {
          "output_type": "display_data",
          "data": {
            "text/html": [
              "<span class=\"tex2jax_ignore\"><div class=\"entities\" style=\"line-height: 2.5; direction: ltr\">India has the most number of \n",
              "<mark class=\"entity\" style=\"background: #ddd; padding: 0.45em 0.6em; margin: 0 0.25em; line-height: 1; border-radius: 0.35em;\">\n",
              "    stroke\n",
              "    <span style=\"font-size: 0.8em; font-weight: bold; line-height: 1; border-radius: 0.35em; text-transform: uppercase; vertical-align: middle; margin-left: 0.5rem\">DISEASE</span>\n",
              "</mark>\n",
              " cases in the whole world</div></span>"
            ],
            "text/plain": [
              "<IPython.core.display.HTML object>"
            ]
          },
          "metadata": {
            "tags": []
          }
        },
        {
          "output_type": "display_data",
          "data": {
            "text/html": [
              "<span class=\"tex2jax_ignore\"><div class=\"entities\" style=\"line-height: 2.5; direction: ltr\">No other disease has ever affected the human race like \n",
              "<mark class=\"entity\" style=\"background: #ddd; padding: 0.45em 0.6em; margin: 0 0.25em; line-height: 1; border-radius: 0.35em;\">\n",
              "    stroke\n",
              "    <span style=\"font-size: 0.8em; font-weight: bold; line-height: 1; border-radius: 0.35em; text-transform: uppercase; vertical-align: middle; margin-left: 0.5rem\">DISEASE</span>\n",
              "</mark>\n",
              "</div></span>"
            ],
            "text/plain": [
              "<IPython.core.display.HTML object>"
            ]
          },
          "metadata": {
            "tags": []
          }
        },
        {
          "output_type": "display_data",
          "data": {
            "text/html": [
              "<span class=\"tex2jax_ignore\"><div class=\"entities\" style=\"line-height: 2.5; direction: ltr\">What will be the new president's coarse of action on \n",
              "<mark class=\"entity\" style=\"background: #ddd; padding: 0.45em 0.6em; margin: 0 0.25em; line-height: 1; border-radius: 0.35em;\">\n",
              "    stroke\n",
              "    <span style=\"font-size: 0.8em; font-weight: bold; line-height: 1; border-radius: 0.35em; text-transform: uppercase; vertical-align: middle; margin-left: 0.5rem\">DISEASE</span>\n",
              "</mark>\n",
              " ?</div></span>"
            ],
            "text/plain": [
              "<IPython.core.display.HTML object>"
            ]
          },
          "metadata": {
            "tags": []
          }
        },
        {
          "output_type": "stream",
          "text": [
            "\n",
            "\n",
            "Accuracy= 98.88888888888889 %\n"
          ],
          "name": "stdout"
        }
      ]
    }
  ]
}